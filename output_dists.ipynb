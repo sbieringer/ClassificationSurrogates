{
 "cells": [
  {
   "cell_type": "markdown",
   "metadata": {},
   "source": [
    "# Comparing the output distirbutions of different Generative Methods"
   ]
  },
  {
   "cell_type": "code",
   "execution_count": 15,
   "metadata": {},
   "outputs": [],
   "source": [
    "import torch\n",
    "import numpy as np\n",
    "import normflows as nf\n",
    "import os\n",
    "\n",
    "from matplotlib import pyplot as plt\n",
    "\n",
    "from tqdm import tqdm\n",
    "\n",
    "from jet_dataset import JetDataset\n",
    "from script_jets import DDPM, SimpleCondFF"
   ]
  },
  {
   "cell_type": "code",
   "execution_count": 16,
   "metadata": {},
   "outputs": [
    {
     "name": "stdout",
     "output_type": "stream",
     "text": [
      "cuda\n"
     ]
    }
   ],
   "source": [
    "device = torch.device('cuda' if torch.cuda.is_available() else 'cpu')\n",
    "print(device)"
   ]
  },
  {
   "cell_type": "code",
   "execution_count": 17,
   "metadata": {},
   "outputs": [
    {
     "name": "stdout",
     "output_type": "stream",
     "text": [
      "loaded model from ./data/NF_2_jets15/model_7499.pth\n"
     ]
    }
   ],
   "source": [
    "###################################\n",
    "### Define the Normalizing Flow ###\n",
    "###################################\n",
    "\n",
    "# Define flows\n",
    "K = 10\n",
    "\n",
    "latent_size = 1\n",
    "hidden_units = 64\n",
    "hidden_layers = 2\n",
    "context_size = 16\n",
    "\n",
    "ep = 7499\n",
    "flow_dir = './data/NF_2_jets15/'\n",
    "\n",
    "flows = []\n",
    "for i in range(K):\n",
    "    flows += [nf.flows.AutoregressiveRationalQuadraticSpline(latent_size, hidden_layers, hidden_units, \n",
    "                                                             num_context_channels=context_size)]\n",
    "    flows += [nf.flows.LULinearPermute(latent_size)]\n",
    "\n",
    "# Set base distribution\n",
    "q0 = nf.distributions.DiagGaussian(1, trainable=False)\n",
    "    \n",
    "# Construct flow model\n",
    "flow = nf.ConditionalNormalizingFlow(q0, flows)\n",
    "\n",
    "# Move model on GPU if available\n",
    "flow = flow.to(device)\n",
    "flow.eval()\n",
    "\n",
    "flow.load_state_dict(torch.load(flow_dir + f\"model_{ep}.pth\"))\n",
    "print('loaded model from ' + flow_dir + f\"model_{ep}.pth\")"
   ]
  },
  {
   "cell_type": "code",
   "execution_count": 18,
   "metadata": {},
   "outputs": [
    {
     "name": "stdout",
     "output_type": "stream",
     "text": [
      "loaded model from ./data/diffusion_jets15_great/model_59.pth\n"
     ]
    }
   ],
   "source": [
    "##################################\n",
    "### Define the Diffusion Model ###\n",
    "##################################\n",
    "\n",
    "n_classes = 10 #have no effect\n",
    "n_feat = 256 # 128 ok, 256 better (but slower)\n",
    "n_T = 400 # probably total overkill\n",
    "\n",
    "ep = 59\n",
    "diff_dir = './data/diffusion_jets15_great/'\n",
    "\n",
    "nn_model_class = SimpleCondFF #ContextUnet\n",
    "\n",
    "ddpm = DDPM(nn_model=nn_model_class(in_channels=1, \n",
    "                                    n_feat=n_feat, \n",
    "                                    n_classes=n_classes), \n",
    "                                    betas=(1e-4, 0.02), n_T=n_T, device=device, drop_prob=0.1)\n",
    "ddpm.eval()\n",
    "\n",
    "ddpm.load_state_dict(torch.load(diff_dir + f\"model_{ep}.pth\"))\n",
    "print('loaded model from ' + diff_dir + f\"model_{ep}.pth\")"
   ]
  },
  {
   "cell_type": "code",
   "execution_count": 19,
   "metadata": {},
   "outputs": [],
   "source": [
    "#######################\n",
    "### Define the data ###\n",
    "#######################\n",
    "\n",
    "dataset_val = JetDataset(\"./jet_data\",'val')"
   ]
  },
  {
   "cell_type": "code",
   "execution_count": 20,
   "metadata": {},
   "outputs": [
    {
     "name": "stdout",
     "output_type": "stream",
     "text": [
      "\n",
      "sampling timestep 100\r"
     ]
    },
    {
     "data": {
      "image/png": "[encoded data removed]",
      "text/plain": [
       "<Figure size 432x288 with 1 Axes>"
      ]
     },
     "metadata": {
      "needs_background": "light"
     },
     "output_type": "display_data"
    },
    {
     "name": "stdout",
     "output_type": "stream",
     "text": [
      "\n",
      "sampling timestep 100\r"
     ]
    },
    {
     "data": {
      "image/png": "[encoded data removed]",
      "text/plain": [
       "<Figure size 432x288 with 1 Axes>"
      ]
     },
     "metadata": {
      "needs_background": "light"
     },
     "output_type": "display_data"
    },
    {
     "name": "stdout",
     "output_type": "stream",
     "text": [
      "\n",
      "sampling timestep 100\r"
     ]
    },
    {
     "data": {
      "image/png": "[encoded data removed]",
      "text/plain": [
       "<Figure size 432x288 with 1 Axes>"
      ]
     },
     "metadata": {
      "needs_background": "light"
     },
     "output_type": "display_data"
    },
    {
     "name": "stdout",
     "output_type": "stream",
     "text": [
      "\n",
      "sampling timestep 100\r"
     ]
    },
    {
     "data": {
      "image/png": "[encoded data removed]",
      "text/plain": [
       "<Figure size 432x288 with 1 Axes>"
      ]
     },
     "metadata": {
      "needs_background": "light"
     },
     "output_type": "display_data"
    },
    {
     "name": "stdout",
     "output_type": "stream",
     "text": [
      "\n",
      "sampling timestep 100\r"
     ]
    },
    {
     "data": {
      "image/png": "[encoded data removed]",
      "text/plain": [
       "<Figure size 432x288 with 1 Axes>"
      ]
     },
     "metadata": {
      "needs_background": "light"
     },
     "output_type": "display_data"
    }
   ],
   "source": [
    "for i in range(5):\n",
    "    conditions = torch.Tensor(dataset_val.features).to(device)\n",
    "    n_stat_alea = 100\n",
    "    bins = np.linspace(-20,20,40)\n",
    "\n",
    "    x_gen_flow, _ = flow.sample(1*n_stat_alea, context=conditions[i:i+1].repeat_interleave(n_stat_alea, dim=0))\n",
    "    x_gen_flow *= 20\n",
    "    plt.hist(x_gen_flow.detach().cpu().numpy(), bins = bins)\n",
    "    del x_gen_flow\n",
    "\n",
    "    x_gen_diff, _ = ddpm.sample(conditions[i:i+1].repeat_interleave(n_stat_alea, dim=0), device = device)\n",
    "    x_gen_diff *= 20\n",
    "    plt.hist(x_gen_diff.detach().cpu().numpy(), bins = bins, histtype = 'step')\n",
    "    del x_gen_diff\n",
    "\n",
    "    plt.vlines(dataset_val.target[i:i+1]*20, *plt.ylim(), color = 'red')\n",
    "    plt.show()"
   ]
  },
  {
   "cell_type": "code",
   "execution_count": null,
   "metadata": {},
   "outputs": [],
   "source": []
  }
 ],
 "metadata": {
  "kernelspec": {
   "display_name": "bayesconda",
   "language": "python",
   "name": "python3"
  },
  "language_info": {
   "codemirror_mode": {
    "name": "ipython",
    "version": 3
   },
   "file_extension": ".py",
   "mimetype": "text/x-python",
   "name": "python",
   "nbconvert_exporter": "python",
   "pygments_lexer": "ipython3",
   "version": "3.7.12"
  }
 },
 "nbformat": 4,
 "nbformat_minor": 4
}
