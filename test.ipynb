{
 "cells": [
  {
   "cell_type": "code",
   "execution_count": 1,
   "id": "32d73a70-a865-4aca-b782-c7f22b557e79",
   "metadata": {},
   "outputs": [
    {
     "name": "stderr",
     "output_type": "stream",
     "text": [
      "/beegfs/desy/user/bierings/conda/envs/bayesconda/lib/python3.7/site-packages/tqdm/auto.py:22: TqdmWarning: IProgress not found. Please update jupyter and ipywidgets. See https://ipywidgets.readthedocs.io/en/stable/user_install.html\n",
      "  from .autonotebook import tqdm as notebook_tqdm\n"
     ]
    }
   ],
   "source": [
    "from typing import Dict, Tuple\n",
    "from tqdm import tqdm\n",
    "import torch\n",
    "import torch.nn as nn\n",
    "import torch.nn.functional as F\n",
    "from torch.utils.data import DataLoader\n",
    "from torchvision import models, transforms\n",
    "from torchvision.datasets import MNIST\n",
    "from torchvision.utils import save_image, make_grid\n",
    "import matplotlib.pyplot as plt\n",
    "from matplotlib.animation import FuncAnimation, PillowWriter\n",
    "import numpy as np\n",
    "from jet_dataset import JetDataset\n",
    "\n",
    "from sklearn.metrics import roc_curve\n",
    "## wrap jet data in dataset"
   ]
  },
  {
   "cell_type": "code",
   "execution_count": 2,
   "id": "d4849942-4583-463e-bbc8-578af25fa29a",
   "metadata": {},
   "outputs": [],
   "source": [
    "from script_jets import *"
   ]
  },
  {
   "cell_type": "code",
   "execution_count": 3,
   "id": "83d1e792-0fe7-401e-85fa-bd658e580464",
   "metadata": {},
   "outputs": [],
   "source": [
    "import pandas as pd\n",
    "d = pd.read_hdf(\"./jet_data/filtered_jetclass_test.h5\", key=\"df\")"
   ]
  },
  {
   "cell_type": "code",
   "execution_count": 4,
   "id": "56bfd492-3894-4e57-a9e5-08a7f4df0a65",
   "metadata": {},
   "outputs": [
    {
     "data": {
      "text/html": [
       "<div>\n",
       "<style scoped>\n",
       "    .dataframe tbody tr th:only-of-type {\n",
       "        vertical-align: middle;\n",
       "    }\n",
       "\n",
       "    .dataframe tbody tr th {\n",
       "        vertical-align: top;\n",
       "    }\n",
       "\n",
       "    .dataframe thead th {\n",
       "        text-align: right;\n",
       "    }\n",
       "</style>\n",
       "<table border=\"1\" class=\"dataframe\">\n",
       "  <thead>\n",
       "    <tr style=\"text-align: right;\">\n",
       "      <th></th>\n",
       "      <th>jet_p_top_ParT_full</th>\n",
       "      <th>jet_p_top_ParT_kin</th>\n",
       "      <th>label_top</th>\n",
       "      <th>jet_pt</th>\n",
       "      <th>jet_eta</th>\n",
       "      <th>jet_phi</th>\n",
       "      <th>jet_energy</th>\n",
       "      <th>jet_nparticles</th>\n",
       "      <th>jet_sdmass</th>\n",
       "      <th>jet_tau1</th>\n",
       "      <th>jet_tau2</th>\n",
       "      <th>jet_tau3</th>\n",
       "      <th>jet_tau4</th>\n",
       "      <th>aux_genpart_eta</th>\n",
       "      <th>aux_genpart_phi</th>\n",
       "      <th>aux_genpart_pid</th>\n",
       "      <th>aux_genpart_pt</th>\n",
       "      <th>aux_truth_match</th>\n",
       "    </tr>\n",
       "  </thead>\n",
       "  <tbody>\n",
       "    <tr>\n",
       "      <th>0</th>\n",
       "      <td>9.983645e-01</td>\n",
       "      <td>9.522571e-01</td>\n",
       "      <td>1.0</td>\n",
       "      <td>624.240662</td>\n",
       "      <td>1.129498</td>\n",
       "      <td>-0.465312</td>\n",
       "      <td>1077.869873</td>\n",
       "      <td>52.0</td>\n",
       "      <td>79.332123</td>\n",
       "      <td>0.223729</td>\n",
       "      <td>0.102460</td>\n",
       "      <td>0.055052</td>\n",
       "      <td>0.043698</td>\n",
       "      <td>1.138593</td>\n",
       "      <td>-0.480629</td>\n",
       "      <td>6.0</td>\n",
       "      <td>646.821228</td>\n",
       "      <td>12.0</td>\n",
       "    </tr>\n",
       "    <tr>\n",
       "      <th>1</th>\n",
       "      <td>9.999924e-01</td>\n",
       "      <td>9.899870e-01</td>\n",
       "      <td>1.0</td>\n",
       "      <td>607.780273</td>\n",
       "      <td>0.502210</td>\n",
       "      <td>3.009857</td>\n",
       "      <td>708.459656</td>\n",
       "      <td>44.0</td>\n",
       "      <td>176.776321</td>\n",
       "      <td>0.210097</td>\n",
       "      <td>0.075915</td>\n",
       "      <td>0.036901</td>\n",
       "      <td>0.030485</td>\n",
       "      <td>0.495062</td>\n",
       "      <td>3.027341</td>\n",
       "      <td>-6.0</td>\n",
       "      <td>646.858643</td>\n",
       "      <td>11.0</td>\n",
       "    </tr>\n",
       "    <tr>\n",
       "      <th>2</th>\n",
       "      <td>9.917580e-01</td>\n",
       "      <td>9.809496e-01</td>\n",
       "      <td>1.0</td>\n",
       "      <td>573.296448</td>\n",
       "      <td>0.820027</td>\n",
       "      <td>-3.040977</td>\n",
       "      <td>794.708008</td>\n",
       "      <td>46.0</td>\n",
       "      <td>166.371460</td>\n",
       "      <td>0.303593</td>\n",
       "      <td>0.076452</td>\n",
       "      <td>0.067617</td>\n",
       "      <td>0.051012</td>\n",
       "      <td>0.802325</td>\n",
       "      <td>-3.031272</td>\n",
       "      <td>6.0</td>\n",
       "      <td>588.094543</td>\n",
       "      <td>12.0</td>\n",
       "    </tr>\n",
       "    <tr>\n",
       "      <th>3</th>\n",
       "      <td>9.999778e-01</td>\n",
       "      <td>9.997802e-01</td>\n",
       "      <td>1.0</td>\n",
       "      <td>631.511658</td>\n",
       "      <td>-0.375212</td>\n",
       "      <td>1.492339</td>\n",
       "      <td>697.078247</td>\n",
       "      <td>63.0</td>\n",
       "      <td>166.675827</td>\n",
       "      <td>0.312275</td>\n",
       "      <td>0.194364</td>\n",
       "      <td>0.076688</td>\n",
       "      <td>0.060912</td>\n",
       "      <td>-0.385724</td>\n",
       "      <td>1.499509</td>\n",
       "      <td>6.0</td>\n",
       "      <td>633.465454</td>\n",
       "      <td>12.0</td>\n",
       "    </tr>\n",
       "    <tr>\n",
       "      <th>4</th>\n",
       "      <td>9.999519e-01</td>\n",
       "      <td>9.932649e-01</td>\n",
       "      <td>1.0</td>\n",
       "      <td>678.857544</td>\n",
       "      <td>0.937984</td>\n",
       "      <td>1.502388</td>\n",
       "      <td>1016.299377</td>\n",
       "      <td>53.0</td>\n",
       "      <td>181.070892</td>\n",
       "      <td>0.256024</td>\n",
       "      <td>0.117011</td>\n",
       "      <td>0.047009</td>\n",
       "      <td>0.035953</td>\n",
       "      <td>0.927586</td>\n",
       "      <td>1.521285</td>\n",
       "      <td>-6.0</td>\n",
       "      <td>625.966125</td>\n",
       "      <td>11.0</td>\n",
       "    </tr>\n",
       "    <tr>\n",
       "      <th>...</th>\n",
       "      <td>...</td>\n",
       "      <td>...</td>\n",
       "      <td>...</td>\n",
       "      <td>...</td>\n",
       "      <td>...</td>\n",
       "      <td>...</td>\n",
       "      <td>...</td>\n",
       "      <td>...</td>\n",
       "      <td>...</td>\n",
       "      <td>...</td>\n",
       "      <td>...</td>\n",
       "      <td>...</td>\n",
       "      <td>...</td>\n",
       "      <td>...</td>\n",
       "      <td>...</td>\n",
       "      <td>...</td>\n",
       "      <td>...</td>\n",
       "      <td>...</td>\n",
       "    </tr>\n",
       "    <tr>\n",
       "      <th>3999995</th>\n",
       "      <td>5.184825e-09</td>\n",
       "      <td>1.588372e-07</td>\n",
       "      <td>0.0</td>\n",
       "      <td>584.750427</td>\n",
       "      <td>0.983164</td>\n",
       "      <td>0.564906</td>\n",
       "      <td>890.911926</td>\n",
       "      <td>9.0</td>\n",
       "      <td>1.410698</td>\n",
       "      <td>0.008389</td>\n",
       "      <td>0.005679</td>\n",
       "      <td>0.003011</td>\n",
       "      <td>0.001487</td>\n",
       "      <td>0.000000</td>\n",
       "      <td>0.000000</td>\n",
       "      <td>0.0</td>\n",
       "      <td>0.000000</td>\n",
       "      <td>50.0</td>\n",
       "    </tr>\n",
       "    <tr>\n",
       "      <th>3999996</th>\n",
       "      <td>3.842124e-06</td>\n",
       "      <td>1.341977e-05</td>\n",
       "      <td>0.0</td>\n",
       "      <td>535.355286</td>\n",
       "      <td>0.022202</td>\n",
       "      <td>2.010515</td>\n",
       "      <td>536.581726</td>\n",
       "      <td>32.0</td>\n",
       "      <td>29.710541</td>\n",
       "      <td>0.052328</td>\n",
       "      <td>0.027683</td>\n",
       "      <td>0.022781</td>\n",
       "      <td>0.017210</td>\n",
       "      <td>0.000000</td>\n",
       "      <td>0.000000</td>\n",
       "      <td>0.0</td>\n",
       "      <td>0.000000</td>\n",
       "      <td>50.0</td>\n",
       "    </tr>\n",
       "    <tr>\n",
       "      <th>3999997</th>\n",
       "      <td>1.853336e-07</td>\n",
       "      <td>1.424265e-06</td>\n",
       "      <td>0.0</td>\n",
       "      <td>600.248108</td>\n",
       "      <td>-0.925498</td>\n",
       "      <td>1.375982</td>\n",
       "      <td>877.299255</td>\n",
       "      <td>26.0</td>\n",
       "      <td>18.489277</td>\n",
       "      <td>0.050093</td>\n",
       "      <td>0.036496</td>\n",
       "      <td>0.028598</td>\n",
       "      <td>0.022484</td>\n",
       "      <td>0.000000</td>\n",
       "      <td>0.000000</td>\n",
       "      <td>0.0</td>\n",
       "      <td>0.000000</td>\n",
       "      <td>50.0</td>\n",
       "    </tr>\n",
       "    <tr>\n",
       "      <th>3999998</th>\n",
       "      <td>1.707080e-04</td>\n",
       "      <td>3.933093e-04</td>\n",
       "      <td>0.0</td>\n",
       "      <td>668.357239</td>\n",
       "      <td>0.436436</td>\n",
       "      <td>-0.924948</td>\n",
       "      <td>735.193542</td>\n",
       "      <td>26.0</td>\n",
       "      <td>52.001625</td>\n",
       "      <td>0.051965</td>\n",
       "      <td>0.021701</td>\n",
       "      <td>0.017412</td>\n",
       "      <td>0.012106</td>\n",
       "      <td>0.000000</td>\n",
       "      <td>0.000000</td>\n",
       "      <td>0.0</td>\n",
       "      <td>0.000000</td>\n",
       "      <td>50.0</td>\n",
       "    </tr>\n",
       "    <tr>\n",
       "      <th>3999999</th>\n",
       "      <td>7.040602e-09</td>\n",
       "      <td>5.989707e-08</td>\n",
       "      <td>0.0</td>\n",
       "      <td>718.578552</td>\n",
       "      <td>-0.965269</td>\n",
       "      <td>-1.922194</td>\n",
       "      <td>1080.756958</td>\n",
       "      <td>17.0</td>\n",
       "      <td>6.009712</td>\n",
       "      <td>0.011879</td>\n",
       "      <td>0.009489</td>\n",
       "      <td>0.008145</td>\n",
       "      <td>0.005574</td>\n",
       "      <td>0.000000</td>\n",
       "      <td>0.000000</td>\n",
       "      <td>0.0</td>\n",
       "      <td>0.000000</td>\n",
       "      <td>50.0</td>\n",
       "    </tr>\n",
       "  </tbody>\n",
       "</table>\n",
       "<p>4000000 rows × 18 columns</p>\n",
       "</div>"
      ],
      "text/plain": [
       "         jet_p_top_ParT_full  jet_p_top_ParT_kin  label_top      jet_pt  \\\n",
       "0               9.983645e-01        9.522571e-01        1.0  624.240662   \n",
       "1               9.999924e-01        9.899870e-01        1.0  607.780273   \n",
       "2               9.917580e-01        9.809496e-01        1.0  573.296448   \n",
       "3               9.999778e-01        9.997802e-01        1.0  631.511658   \n",
       "4               9.999519e-01        9.932649e-01        1.0  678.857544   \n",
       "...                      ...                 ...        ...         ...   \n",
       "3999995         5.184825e-09        1.588372e-07        0.0  584.750427   \n",
       "3999996         3.842124e-06        1.341977e-05        0.0  535.355286   \n",
       "3999997         1.853336e-07        1.424265e-06        0.0  600.248108   \n",
       "3999998         1.707080e-04        3.933093e-04        0.0  668.357239   \n",
       "3999999         7.040602e-09        5.989707e-08        0.0  718.578552   \n",
       "\n",
       "          jet_eta   jet_phi   jet_energy  jet_nparticles  jet_sdmass  \\\n",
       "0        1.129498 -0.465312  1077.869873            52.0   79.332123   \n",
       "1        0.502210  3.009857   708.459656            44.0  176.776321   \n",
       "2        0.820027 -3.040977   794.708008            46.0  166.371460   \n",
       "3       -0.375212  1.492339   697.078247            63.0  166.675827   \n",
       "4        0.937984  1.502388  1016.299377            53.0  181.070892   \n",
       "...           ...       ...          ...             ...         ...   \n",
       "3999995  0.983164  0.564906   890.911926             9.0    1.410698   \n",
       "3999996  0.022202  2.010515   536.581726            32.0   29.710541   \n",
       "3999997 -0.925498  1.375982   877.299255            26.0   18.489277   \n",
       "3999998  0.436436 -0.924948   735.193542            26.0   52.001625   \n",
       "3999999 -0.965269 -1.922194  1080.756958            17.0    6.009712   \n",
       "\n",
       "         jet_tau1  jet_tau2  jet_tau3  jet_tau4  aux_genpart_eta  \\\n",
       "0        0.223729  0.102460  0.055052  0.043698         1.138593   \n",
       "1        0.210097  0.075915  0.036901  0.030485         0.495062   \n",
       "2        0.303593  0.076452  0.067617  0.051012         0.802325   \n",
       "3        0.312275  0.194364  0.076688  0.060912        -0.385724   \n",
       "4        0.256024  0.117011  0.047009  0.035953         0.927586   \n",
       "...           ...       ...       ...       ...              ...   \n",
       "3999995  0.008389  0.005679  0.003011  0.001487         0.000000   \n",
       "3999996  0.052328  0.027683  0.022781  0.017210         0.000000   \n",
       "3999997  0.050093  0.036496  0.028598  0.022484         0.000000   \n",
       "3999998  0.051965  0.021701  0.017412  0.012106         0.000000   \n",
       "3999999  0.011879  0.009489  0.008145  0.005574         0.000000   \n",
       "\n",
       "         aux_genpart_phi  aux_genpart_pid  aux_genpart_pt  aux_truth_match  \n",
       "0              -0.480629              6.0      646.821228             12.0  \n",
       "1               3.027341             -6.0      646.858643             11.0  \n",
       "2              -3.031272              6.0      588.094543             12.0  \n",
       "3               1.499509              6.0      633.465454             12.0  \n",
       "4               1.521285             -6.0      625.966125             11.0  \n",
       "...                  ...              ...             ...              ...  \n",
       "3999995         0.000000              0.0        0.000000             50.0  \n",
       "3999996         0.000000              0.0        0.000000             50.0  \n",
       "3999997         0.000000              0.0        0.000000             50.0  \n",
       "3999998         0.000000              0.0        0.000000             50.0  \n",
       "3999999         0.000000              0.0        0.000000             50.0  \n",
       "\n",
       "[4000000 rows x 18 columns]"
      ]
     },
     "execution_count": 4,
     "metadata": {},
     "output_type": "execute_result"
    }
   ],
   "source": [
    "d"
   ]
  },
  {
   "cell_type": "code",
   "execution_count": null,
   "id": "98ea11c1",
   "metadata": {},
   "outputs": [],
   "source": [
    "def use_data(k):\n",
    "    use = not (k=='jet_p_top_ParT_full' or k=='jet_p_top_ParT_kin' or k=='label_top') \n",
    "    return use"
   ]
  },
  {
   "cell_type": "code",
   "execution_count": 5,
   "id": "b59d1144",
   "metadata": {},
   "outputs": [],
   "source": [
    "import numpy as np"
   ]
  },
  {
   "cell_type": "code",
   "execution_count": 6,
   "id": "7641a680",
   "metadata": {},
   "outputs": [
    {
     "data": {
      "text/plain": [
       "(array([1902743.,   40548.,   23626.,   17696.,   15934.,   15887.,\n",
       "          17701.,   23398.,   41391., 1901076.]),\n",
       " array([3.5137035e-10, 1.0000000e-01, 2.0000000e-01, 3.0000001e-01,\n",
       "        4.0000001e-01, 5.0000000e-01, 6.0000002e-01, 6.9999999e-01,\n",
       "        8.0000001e-01, 8.9999998e-01, 1.0000000e+00], dtype=float32),\n",
       " <BarContainer object of 10 artists>)"
      ]
     },
     "execution_count": 6,
     "metadata": {},
     "output_type": "execute_result"
    },
    {
     "data": {
      "image/png": "[encoded data removed]",
      "text/plain": [
       "<Figure size 432x288 with 1 Axes>"
      ]
     },
     "metadata": {
      "needs_background": "light"
     },
     "output_type": "display_data"
    }
   ],
   "source": [
    "target = np.array(d['jet_p_top_ParT_full'],dtype='float32')[...,np.newaxis]\n",
    "plt.hist(target)\n"
   ]
  },
  {
   "cell_type": "code",
   "execution_count": 7,
   "id": "f91e165b",
   "metadata": {},
   "outputs": [
    {
     "data": {
      "text/plain": [
       "(array([1.09173e+05, 4.80877e+05, 6.07267e+05, 5.11039e+05, 2.71585e+05,\n",
       "        2.31147e+05, 6.72679e+05, 9.01002e+05, 2.14401e+05, 8.30000e+02]),\n",
       " array([-1.088459  , -0.87599677, -0.6635345 , -0.4510723 , -0.23861007,\n",
       "        -0.02614784,  0.18631439,  0.39877662,  0.61123884,  0.8237011 ,\n",
       "         1.0361633 ], dtype=float32),\n",
       " <BarContainer object of 10 artists>)"
      ]
     },
     "execution_count": 7,
     "metadata": {},
     "output_type": "execute_result"
    },
    {
     "data": {
      "image/png": "[encoded data removed]",
      "text/plain": [
       "<Figure size 432x288 with 1 Axes>"
      ]
     },
     "metadata": {
      "needs_background": "light"
     },
     "output_type": "display_data"
    }
   ],
   "source": [
    "target_prrp = np.log(target/(1.-target + 1e-9))/20. #invert sigmoid\n",
    "plt.hist(target_prrp)\n",
    "\n"
   ]
  },
  {
   "cell_type": "code",
   "execution_count": 3,
   "id": "e8fb7f7c-4377-4d88-b4c8-bf409d23ab57",
   "metadata": {},
   "outputs": [
    {
     "name": "stdout",
     "output_type": "stream",
     "text": [
      "epoch 0\n"
     ]
    },
    {
     "name": "stderr",
     "output_type": "stream",
     "text": [
      "loss: 0.0794: 100%|██████████| 977/977 [00:13<00:00, 71.86it/s]\n"
     ]
    },
    {
     "name": "stdout",
     "output_type": "stream",
     "text": [
      "\n",
      "plotting rocsstep 100\n",
      "plotting raw (1000000, 1) torch.Size([1000000, 1])\n",
      "plotting raw gen\n",
      "saved images at ./data/diffusion_jets15/\n",
      "epoch 1\n"
     ]
    },
    {
     "name": "stderr",
     "output_type": "stream",
     "text": [
      "loss: 0.0752: 100%|██████████| 977/977 [00:12<00:00, 79.71it/s]\n"
     ]
    },
    {
     "name": "stdout",
     "output_type": "stream",
     "text": [
      "epoch 2\n"
     ]
    },
    {
     "name": "stderr",
     "output_type": "stream",
     "text": [
      "loss: 0.0757: 100%|██████████| 977/977 [00:11<00:00, 84.25it/s]\n"
     ]
    },
    {
     "name": "stdout",
     "output_type": "stream",
     "text": [
      "epoch 3\n"
     ]
    },
    {
     "name": "stderr",
     "output_type": "stream",
     "text": [
      "loss: 0.0742: 100%|██████████| 977/977 [00:11<00:00, 82.41it/s]\n"
     ]
    },
    {
     "name": "stdout",
     "output_type": "stream",
     "text": [
      "epoch 4\n"
     ]
    },
    {
     "name": "stderr",
     "output_type": "stream",
     "text": [
      "loss: 0.0744: 100%|██████████| 977/977 [00:11<00:00, 86.55it/s]\n"
     ]
    },
    {
     "name": "stdout",
     "output_type": "stream",
     "text": [
      "epoch 5\n"
     ]
    },
    {
     "name": "stderr",
     "output_type": "stream",
     "text": [
      "loss: 0.0725: 100%|██████████| 977/977 [00:12<00:00, 78.06it/s]\n"
     ]
    },
    {
     "name": "stdout",
     "output_type": "stream",
     "text": [
      "epoch 6\n"
     ]
    },
    {
     "name": "stderr",
     "output_type": "stream",
     "text": [
      "loss: 0.0740: 100%|██████████| 977/977 [00:12<00:00, 78.84it/s]\n"
     ]
    },
    {
     "name": "stdout",
     "output_type": "stream",
     "text": [
      "epoch 7\n"
     ]
    },
    {
     "name": "stderr",
     "output_type": "stream",
     "text": [
      "loss: 0.0741: 100%|██████████| 977/977 [00:11<00:00, 82.24it/s]\n"
     ]
    },
    {
     "name": "stdout",
     "output_type": "stream",
     "text": [
      "epoch 8\n"
     ]
    },
    {
     "name": "stderr",
     "output_type": "stream",
     "text": [
      "loss: 0.0753: 100%|██████████| 977/977 [00:11<00:00, 82.45it/s]\n"
     ]
    },
    {
     "name": "stdout",
     "output_type": "stream",
     "text": [
      "epoch 9\n"
     ]
    },
    {
     "name": "stderr",
     "output_type": "stream",
     "text": [
      "loss: 0.0737: 100%|██████████| 977/977 [00:12<00:00, 76.79it/s]\n"
     ]
    },
    {
     "name": "stdout",
     "output_type": "stream",
     "text": [
      "epoch 10\n"
     ]
    },
    {
     "name": "stderr",
     "output_type": "stream",
     "text": [
      "loss: 0.0735: 100%|██████████| 977/977 [00:12<00:00, 80.39it/s]\n"
     ]
    },
    {
     "name": "stdout",
     "output_type": "stream",
     "text": [
      "epoch 11\n"
     ]
    },
    {
     "name": "stderr",
     "output_type": "stream",
     "text": [
      "loss: 0.0737: 100%|██████████| 977/977 [00:11<00:00, 85.84it/s]\n"
     ]
    },
    {
     "name": "stdout",
     "output_type": "stream",
     "text": [
      "epoch 12\n"
     ]
    },
    {
     "name": "stderr",
     "output_type": "stream",
     "text": [
      "loss: 0.0724: 100%|██████████| 977/977 [00:12<00:00, 80.66it/s]\n"
     ]
    },
    {
     "name": "stdout",
     "output_type": "stream",
     "text": [
      "epoch 13\n"
     ]
    },
    {
     "name": "stderr",
     "output_type": "stream",
     "text": [
      "loss: 0.0740: 100%|██████████| 977/977 [00:12<00:00, 78.71it/s]\n"
     ]
    },
    {
     "name": "stdout",
     "output_type": "stream",
     "text": [
      "epoch 14\n"
     ]
    },
    {
     "name": "stderr",
     "output_type": "stream",
     "text": [
      "loss: 0.0743: 100%|██████████| 977/977 [00:12<00:00, 80.40it/s]\n"
     ]
    },
    {
     "name": "stdout",
     "output_type": "stream",
     "text": [
      "epoch 15\n"
     ]
    },
    {
     "name": "stderr",
     "output_type": "stream",
     "text": [
      "loss: 0.0722: 100%|██████████| 977/977 [00:12<00:00, 79.17it/s]\n"
     ]
    },
    {
     "name": "stdout",
     "output_type": "stream",
     "text": [
      "epoch 16\n"
     ]
    },
    {
     "name": "stderr",
     "output_type": "stream",
     "text": [
      "loss: 0.0731: 100%|██████████| 977/977 [00:12<00:00, 80.70it/s]\n"
     ]
    },
    {
     "name": "stdout",
     "output_type": "stream",
     "text": [
      "epoch 17\n"
     ]
    },
    {
     "name": "stderr",
     "output_type": "stream",
     "text": [
      "loss: 0.0737: 100%|██████████| 977/977 [00:11<00:00, 84.91it/s]\n"
     ]
    },
    {
     "name": "stdout",
     "output_type": "stream",
     "text": [
      "epoch 18\n"
     ]
    },
    {
     "name": "stderr",
     "output_type": "stream",
     "text": [
      "loss: 0.0717: 100%|██████████| 977/977 [00:11<00:00, 88.30it/s] \n"
     ]
    },
    {
     "name": "stdout",
     "output_type": "stream",
     "text": [
      "epoch 19\n"
     ]
    },
    {
     "name": "stderr",
     "output_type": "stream",
     "text": [
      "loss: 0.0736: 100%|██████████| 977/977 [00:13<00:00, 74.71it/s]\n"
     ]
    },
    {
     "name": "stdout",
     "output_type": "stream",
     "text": [
      "\n",
      "plotting rocsstep 100\n",
      "plotting raw (1000000, 1) torch.Size([1000000, 1])\n",
      "plotting raw gen\n",
      "saved images at ./data/diffusion_jets15/\n",
      "epoch 20\n"
     ]
    },
    {
     "name": "stderr",
     "output_type": "stream",
     "text": [
      "loss: 0.0725: 100%|██████████| 977/977 [00:12<00:00, 76.71it/s]\n"
     ]
    },
    {
     "name": "stdout",
     "output_type": "stream",
     "text": [
      "epoch 21\n"
     ]
    },
    {
     "name": "stderr",
     "output_type": "stream",
     "text": [
      "loss: 0.0727: 100%|██████████| 977/977 [00:12<00:00, 78.49it/s]\n"
     ]
    },
    {
     "name": "stdout",
     "output_type": "stream",
     "text": [
      "epoch 22\n"
     ]
    },
    {
     "name": "stderr",
     "output_type": "stream",
     "text": [
      "loss: 0.0729: 100%|██████████| 977/977 [00:12<00:00, 79.82it/s]\n"
     ]
    },
    {
     "name": "stdout",
     "output_type": "stream",
     "text": [
      "epoch 23\n"
     ]
    },
    {
     "name": "stderr",
     "output_type": "stream",
     "text": [
      "loss: 0.0716: 100%|██████████| 977/977 [00:12<00:00, 80.90it/s]\n"
     ]
    },
    {
     "name": "stdout",
     "output_type": "stream",
     "text": [
      "epoch 24\n"
     ]
    },
    {
     "name": "stderr",
     "output_type": "stream",
     "text": [
      "loss: 0.0715: 100%|██████████| 977/977 [00:11<00:00, 83.69it/s]\n"
     ]
    },
    {
     "name": "stdout",
     "output_type": "stream",
     "text": [
      "epoch 25\n"
     ]
    },
    {
     "name": "stderr",
     "output_type": "stream",
     "text": [
      "loss: 0.0714: 100%|██████████| 977/977 [00:11<00:00, 84.24it/s]\n"
     ]
    },
    {
     "name": "stdout",
     "output_type": "stream",
     "text": [
      "epoch 26\n"
     ]
    },
    {
     "name": "stderr",
     "output_type": "stream",
     "text": [
      "loss: 0.0710: 100%|██████████| 977/977 [00:13<00:00, 74.04it/s]\n"
     ]
    },
    {
     "name": "stdout",
     "output_type": "stream",
     "text": [
      "epoch 27\n"
     ]
    },
    {
     "name": "stderr",
     "output_type": "stream",
     "text": [
      "loss: 0.0704: 100%|██████████| 977/977 [00:12<00:00, 80.48it/s]\n"
     ]
    },
    {
     "name": "stdout",
     "output_type": "stream",
     "text": [
      "epoch 28\n"
     ]
    },
    {
     "name": "stderr",
     "output_type": "stream",
     "text": [
      "loss: 0.0702: 100%|██████████| 977/977 [00:12<00:00, 77.19it/s]\n"
     ]
    },
    {
     "name": "stdout",
     "output_type": "stream",
     "text": [
      "epoch 29\n"
     ]
    },
    {
     "name": "stderr",
     "output_type": "stream",
     "text": [
      "loss: 0.0708: 100%|██████████| 977/977 [00:11<00:00, 83.45it/s]\n"
     ]
    },
    {
     "name": "stdout",
     "output_type": "stream",
     "text": [
      "epoch 30\n"
     ]
    },
    {
     "name": "stderr",
     "output_type": "stream",
     "text": [
      "loss: 0.0709: 100%|██████████| 977/977 [00:12<00:00, 77.04it/s]\n"
     ]
    },
    {
     "name": "stdout",
     "output_type": "stream",
     "text": [
      "epoch 31\n"
     ]
    },
    {
     "name": "stderr",
     "output_type": "stream",
     "text": [
      "loss: 0.0712: 100%|██████████| 977/977 [00:12<00:00, 78.07it/s]\n"
     ]
    },
    {
     "name": "stdout",
     "output_type": "stream",
     "text": [
      "epoch 32\n"
     ]
    },
    {
     "name": "stderr",
     "output_type": "stream",
     "text": [
      "loss: 0.0702: 100%|██████████| 977/977 [00:12<00:00, 79.63it/s]\n"
     ]
    },
    {
     "name": "stdout",
     "output_type": "stream",
     "text": [
      "epoch 33\n"
     ]
    },
    {
     "name": "stderr",
     "output_type": "stream",
     "text": [
      "loss: 0.0711: 100%|██████████| 977/977 [00:12<00:00, 80.66it/s]\n"
     ]
    },
    {
     "name": "stdout",
     "output_type": "stream",
     "text": [
      "epoch 34\n"
     ]
    },
    {
     "name": "stderr",
     "output_type": "stream",
     "text": [
      "loss: 0.0697: 100%|██████████| 977/977 [00:12<00:00, 81.29it/s]\n"
     ]
    },
    {
     "name": "stdout",
     "output_type": "stream",
     "text": [
      "epoch 35\n"
     ]
    },
    {
     "name": "stderr",
     "output_type": "stream",
     "text": [
      "loss: 0.0721: 100%|██████████| 977/977 [00:12<00:00, 81.22it/s]\n"
     ]
    },
    {
     "name": "stdout",
     "output_type": "stream",
     "text": [
      "epoch 36\n"
     ]
    },
    {
     "name": "stderr",
     "output_type": "stream",
     "text": [
      "loss: 0.0702: 100%|██████████| 977/977 [00:13<00:00, 73.90it/s]\n"
     ]
    },
    {
     "name": "stdout",
     "output_type": "stream",
     "text": [
      "epoch 37\n"
     ]
    },
    {
     "name": "stderr",
     "output_type": "stream",
     "text": [
      "loss: 0.0717: 100%|██████████| 977/977 [00:10<00:00, 88.99it/s] \n"
     ]
    },
    {
     "name": "stdout",
     "output_type": "stream",
     "text": [
      "epoch 38\n"
     ]
    },
    {
     "name": "stderr",
     "output_type": "stream",
     "text": [
      "loss: 0.0715: 100%|██████████| 977/977 [00:11<00:00, 85.19it/s]\n"
     ]
    },
    {
     "name": "stdout",
     "output_type": "stream",
     "text": [
      "epoch 39\n"
     ]
    },
    {
     "name": "stderr",
     "output_type": "stream",
     "text": [
      "loss: 0.0724: 100%|██████████| 977/977 [00:11<00:00, 87.72it/s] \n"
     ]
    },
    {
     "name": "stdout",
     "output_type": "stream",
     "text": [
      "\n",
      "plotting rocsstep 100\n",
      "plotting raw (1000000, 1) torch.Size([1000000, 1])\n",
      "plotting raw gen\n",
      "saved images at ./data/diffusion_jets15/\n",
      "epoch 40\n"
     ]
    },
    {
     "name": "stderr",
     "output_type": "stream",
     "text": [
      "loss: 0.0708: 100%|██████████| 977/977 [00:11<00:00, 81.69it/s]\n"
     ]
    },
    {
     "name": "stdout",
     "output_type": "stream",
     "text": [
      "epoch 41\n"
     ]
    },
    {
     "name": "stderr",
     "output_type": "stream",
     "text": [
      "loss: 0.0702: 100%|██████████| 977/977 [00:11<00:00, 84.72it/s] \n"
     ]
    },
    {
     "name": "stdout",
     "output_type": "stream",
     "text": [
      "epoch 42\n"
     ]
    },
    {
     "name": "stderr",
     "output_type": "stream",
     "text": [
      "loss: 0.0714: 100%|██████████| 977/977 [00:12<00:00, 76.43it/s]\n"
     ]
    },
    {
     "name": "stdout",
     "output_type": "stream",
     "text": [
      "epoch 43\n"
     ]
    },
    {
     "name": "stderr",
     "output_type": "stream",
     "text": [
      "loss: 0.0714: 100%|██████████| 977/977 [00:12<00:00, 81.22it/s]\n"
     ]
    },
    {
     "name": "stdout",
     "output_type": "stream",
     "text": [
      "epoch 44\n"
     ]
    },
    {
     "name": "stderr",
     "output_type": "stream",
     "text": [
      "loss: 0.0710: 100%|██████████| 977/977 [00:11<00:00, 82.86it/s] \n"
     ]
    },
    {
     "name": "stdout",
     "output_type": "stream",
     "text": [
      "epoch 45\n"
     ]
    },
    {
     "name": "stderr",
     "output_type": "stream",
     "text": [
      "loss: 0.0703: 100%|██████████| 977/977 [00:11<00:00, 85.74it/s] \n"
     ]
    },
    {
     "name": "stdout",
     "output_type": "stream",
     "text": [
      "epoch 46\n"
     ]
    },
    {
     "name": "stderr",
     "output_type": "stream",
     "text": [
      "loss: 0.0695: 100%|██████████| 977/977 [00:11<00:00, 82.61it/s] \n"
     ]
    },
    {
     "name": "stdout",
     "output_type": "stream",
     "text": [
      "epoch 47\n"
     ]
    },
    {
     "name": "stderr",
     "output_type": "stream",
     "text": [
      "loss: 0.0709: 100%|██████████| 977/977 [00:11<00:00, 83.27it/s]\n"
     ]
    },
    {
     "name": "stdout",
     "output_type": "stream",
     "text": [
      "epoch 48\n"
     ]
    },
    {
     "name": "stderr",
     "output_type": "stream",
     "text": [
      "loss: 0.0709: 100%|██████████| 977/977 [00:13<00:00, 73.20it/s]\n"
     ]
    },
    {
     "name": "stdout",
     "output_type": "stream",
     "text": [
      "epoch 49\n",
      "froze BatchNorm1d(256, eps=1e-05, momentum=0.1, affine=True, track_running_stats=True)\n",
      "froze BatchNorm1d(256, eps=1e-05, momentum=0.1, affine=True, track_running_stats=True)\n",
      "froze BatchNorm1d(256, eps=1e-05, momentum=0.1, affine=True, track_running_stats=True)\n",
      "froze BatchNorm1d(256, eps=1e-05, momentum=0.1, affine=True, track_running_stats=True)\n",
      "froze BatchNorm1d(256, eps=1e-05, momentum=0.1, affine=True, track_running_stats=True)\n",
      "froze BatchNorm1d(256, eps=1e-05, momentum=0.1, affine=True, track_running_stats=True)\n",
      "froze BatchNorm1d(256, eps=1e-05, momentum=0.1, affine=True, track_running_stats=True)\n",
      "froze BatchNorm1d(256, eps=1e-05, momentum=0.1, affine=True, track_running_stats=True)\n"
     ]
    },
    {
     "name": "stderr",
     "output_type": "stream",
     "text": [
      "loss: 0.0713: 100%|██████████| 977/977 [00:11<00:00, 86.42it/s] \n"
     ]
    },
    {
     "name": "stdout",
     "output_type": "stream",
     "text": [
      "epoch 50\n",
      "froze BatchNorm1d(256, eps=1e-05, momentum=0.1, affine=True, track_running_stats=True)\n",
      "froze BatchNorm1d(256, eps=1e-05, momentum=0.1, affine=True, track_running_stats=True)\n",
      "froze BatchNorm1d(256, eps=1e-05, momentum=0.1, affine=True, track_running_stats=True)\n",
      "froze BatchNorm1d(256, eps=1e-05, momentum=0.1, affine=True, track_running_stats=True)\n",
      "froze BatchNorm1d(256, eps=1e-05, momentum=0.1, affine=True, track_running_stats=True)\n",
      "froze BatchNorm1d(256, eps=1e-05, momentum=0.1, affine=True, track_running_stats=True)\n",
      "froze BatchNorm1d(256, eps=1e-05, momentum=0.1, affine=True, track_running_stats=True)\n",
      "froze BatchNorm1d(256, eps=1e-05, momentum=0.1, affine=True, track_running_stats=True)\n"
     ]
    },
    {
     "name": "stderr",
     "output_type": "stream",
     "text": [
      "loss: 0.0705: 100%|██████████| 977/977 [00:11<00:00, 83.93it/s] \n"
     ]
    },
    {
     "name": "stdout",
     "output_type": "stream",
     "text": [
      "epoch 51\n",
      "froze BatchNorm1d(256, eps=1e-05, momentum=0.1, affine=True, track_running_stats=True)\n",
      "froze BatchNorm1d(256, eps=1e-05, momentum=0.1, affine=True, track_running_stats=True)\n",
      "froze BatchNorm1d(256, eps=1e-05, momentum=0.1, affine=True, track_running_stats=True)\n",
      "froze BatchNorm1d(256, eps=1e-05, momentum=0.1, affine=True, track_running_stats=True)\n",
      "froze BatchNorm1d(256, eps=1e-05, momentum=0.1, affine=True, track_running_stats=True)\n",
      "froze BatchNorm1d(256, eps=1e-05, momentum=0.1, affine=True, track_running_stats=True)\n",
      "froze BatchNorm1d(256, eps=1e-05, momentum=0.1, affine=True, track_running_stats=True)\n",
      "froze BatchNorm1d(256, eps=1e-05, momentum=0.1, affine=True, track_running_stats=True)\n"
     ]
    },
    {
     "name": "stderr",
     "output_type": "stream",
     "text": [
      "loss: 0.0705: 100%|██████████| 977/977 [00:12<00:00, 81.14it/s]\n"
     ]
    },
    {
     "name": "stdout",
     "output_type": "stream",
     "text": [
      "epoch 52\n",
      "froze BatchNorm1d(256, eps=1e-05, momentum=0.1, affine=True, track_running_stats=True)\n",
      "froze BatchNorm1d(256, eps=1e-05, momentum=0.1, affine=True, track_running_stats=True)\n",
      "froze BatchNorm1d(256, eps=1e-05, momentum=0.1, affine=True, track_running_stats=True)\n",
      "froze BatchNorm1d(256, eps=1e-05, momentum=0.1, affine=True, track_running_stats=True)\n",
      "froze BatchNorm1d(256, eps=1e-05, momentum=0.1, affine=True, track_running_stats=True)\n",
      "froze BatchNorm1d(256, eps=1e-05, momentum=0.1, affine=True, track_running_stats=True)\n",
      "froze BatchNorm1d(256, eps=1e-05, momentum=0.1, affine=True, track_running_stats=True)\n",
      "froze BatchNorm1d(256, eps=1e-05, momentum=0.1, affine=True, track_running_stats=True)\n"
     ]
    },
    {
     "name": "stderr",
     "output_type": "stream",
     "text": [
      "loss: 0.0706: 100%|██████████| 977/977 [00:12<00:00, 78.25it/s]\n"
     ]
    },
    {
     "name": "stdout",
     "output_type": "stream",
     "text": [
      "epoch 53\n",
      "froze BatchNorm1d(256, eps=1e-05, momentum=0.1, affine=True, track_running_stats=True)\n",
      "froze BatchNorm1d(256, eps=1e-05, momentum=0.1, affine=True, track_running_stats=True)\n",
      "froze BatchNorm1d(256, eps=1e-05, momentum=0.1, affine=True, track_running_stats=True)\n",
      "froze BatchNorm1d(256, eps=1e-05, momentum=0.1, affine=True, track_running_stats=True)\n",
      "froze BatchNorm1d(256, eps=1e-05, momentum=0.1, affine=True, track_running_stats=True)\n",
      "froze BatchNorm1d(256, eps=1e-05, momentum=0.1, affine=True, track_running_stats=True)\n",
      "froze BatchNorm1d(256, eps=1e-05, momentum=0.1, affine=True, track_running_stats=True)\n",
      "froze BatchNorm1d(256, eps=1e-05, momentum=0.1, affine=True, track_running_stats=True)\n"
     ]
    },
    {
     "name": "stderr",
     "output_type": "stream",
     "text": [
      "loss: 0.0705: 100%|██████████| 977/977 [00:12<00:00, 80.83it/s]\n"
     ]
    },
    {
     "name": "stdout",
     "output_type": "stream",
     "text": [
      "epoch 54\n",
      "froze BatchNorm1d(256, eps=1e-05, momentum=0.1, affine=True, track_running_stats=True)\n",
      "froze BatchNorm1d(256, eps=1e-05, momentum=0.1, affine=True, track_running_stats=True)\n",
      "froze BatchNorm1d(256, eps=1e-05, momentum=0.1, affine=True, track_running_stats=True)\n",
      "froze BatchNorm1d(256, eps=1e-05, momentum=0.1, affine=True, track_running_stats=True)\n",
      "froze BatchNorm1d(256, eps=1e-05, momentum=0.1, affine=True, track_running_stats=True)\n",
      "froze BatchNorm1d(256, eps=1e-05, momentum=0.1, affine=True, track_running_stats=True)\n",
      "froze BatchNorm1d(256, eps=1e-05, momentum=0.1, affine=True, track_running_stats=True)\n",
      "froze BatchNorm1d(256, eps=1e-05, momentum=0.1, affine=True, track_running_stats=True)\n"
     ]
    },
    {
     "name": "stderr",
     "output_type": "stream",
     "text": [
      "loss: 0.0706: 100%|██████████| 977/977 [00:11<00:00, 81.73it/s]\n"
     ]
    },
    {
     "name": "stdout",
     "output_type": "stream",
     "text": [
      "epoch 55\n",
      "froze BatchNorm1d(256, eps=1e-05, momentum=0.1, affine=True, track_running_stats=True)\n",
      "froze BatchNorm1d(256, eps=1e-05, momentum=0.1, affine=True, track_running_stats=True)\n",
      "froze BatchNorm1d(256, eps=1e-05, momentum=0.1, affine=True, track_running_stats=True)\n",
      "froze BatchNorm1d(256, eps=1e-05, momentum=0.1, affine=True, track_running_stats=True)\n",
      "froze BatchNorm1d(256, eps=1e-05, momentum=0.1, affine=True, track_running_stats=True)\n",
      "froze BatchNorm1d(256, eps=1e-05, momentum=0.1, affine=True, track_running_stats=True)\n",
      "froze BatchNorm1d(256, eps=1e-05, momentum=0.1, affine=True, track_running_stats=True)\n",
      "froze BatchNorm1d(256, eps=1e-05, momentum=0.1, affine=True, track_running_stats=True)\n"
     ]
    },
    {
     "name": "stderr",
     "output_type": "stream",
     "text": [
      "loss: 0.0686: 100%|██████████| 977/977 [00:12<00:00, 79.94it/s]\n"
     ]
    },
    {
     "name": "stdout",
     "output_type": "stream",
     "text": [
      "epoch 56\n",
      "froze BatchNorm1d(256, eps=1e-05, momentum=0.1, affine=True, track_running_stats=True)\n",
      "froze BatchNorm1d(256, eps=1e-05, momentum=0.1, affine=True, track_running_stats=True)\n",
      "froze BatchNorm1d(256, eps=1e-05, momentum=0.1, affine=True, track_running_stats=True)\n",
      "froze BatchNorm1d(256, eps=1e-05, momentum=0.1, affine=True, track_running_stats=True)\n",
      "froze BatchNorm1d(256, eps=1e-05, momentum=0.1, affine=True, track_running_stats=True)\n",
      "froze BatchNorm1d(256, eps=1e-05, momentum=0.1, affine=True, track_running_stats=True)\n",
      "froze BatchNorm1d(256, eps=1e-05, momentum=0.1, affine=True, track_running_stats=True)\n",
      "froze BatchNorm1d(256, eps=1e-05, momentum=0.1, affine=True, track_running_stats=True)\n"
     ]
    },
    {
     "name": "stderr",
     "output_type": "stream",
     "text": [
      "loss: 0.0697: 100%|██████████| 977/977 [00:11<00:00, 84.32it/s]\n"
     ]
    },
    {
     "name": "stdout",
     "output_type": "stream",
     "text": [
      "epoch 57\n",
      "froze BatchNorm1d(256, eps=1e-05, momentum=0.1, affine=True, track_running_stats=True)\n",
      "froze BatchNorm1d(256, eps=1e-05, momentum=0.1, affine=True, track_running_stats=True)\n",
      "froze BatchNorm1d(256, eps=1e-05, momentum=0.1, affine=True, track_running_stats=True)\n",
      "froze BatchNorm1d(256, eps=1e-05, momentum=0.1, affine=True, track_running_stats=True)\n",
      "froze BatchNorm1d(256, eps=1e-05, momentum=0.1, affine=True, track_running_stats=True)\n",
      "froze BatchNorm1d(256, eps=1e-05, momentum=0.1, affine=True, track_running_stats=True)\n",
      "froze BatchNorm1d(256, eps=1e-05, momentum=0.1, affine=True, track_running_stats=True)\n",
      "froze BatchNorm1d(256, eps=1e-05, momentum=0.1, affine=True, track_running_stats=True)\n"
     ]
    },
    {
     "name": "stderr",
     "output_type": "stream",
     "text": [
      "loss: 0.0696: 100%|██████████| 977/977 [00:12<00:00, 79.45it/s]\n"
     ]
    },
    {
     "name": "stdout",
     "output_type": "stream",
     "text": [
      "epoch 58\n",
      "froze BatchNorm1d(256, eps=1e-05, momentum=0.1, affine=True, track_running_stats=True)\n",
      "froze BatchNorm1d(256, eps=1e-05, momentum=0.1, affine=True, track_running_stats=True)\n",
      "froze BatchNorm1d(256, eps=1e-05, momentum=0.1, affine=True, track_running_stats=True)\n",
      "froze BatchNorm1d(256, eps=1e-05, momentum=0.1, affine=True, track_running_stats=True)\n",
      "froze BatchNorm1d(256, eps=1e-05, momentum=0.1, affine=True, track_running_stats=True)\n",
      "froze BatchNorm1d(256, eps=1e-05, momentum=0.1, affine=True, track_running_stats=True)\n",
      "froze BatchNorm1d(256, eps=1e-05, momentum=0.1, affine=True, track_running_stats=True)\n",
      "froze BatchNorm1d(256, eps=1e-05, momentum=0.1, affine=True, track_running_stats=True)\n"
     ]
    },
    {
     "name": "stderr",
     "output_type": "stream",
     "text": [
      "loss: 0.0693: 100%|██████████| 977/977 [00:11<00:00, 85.17it/s] \n"
     ]
    },
    {
     "name": "stdout",
     "output_type": "stream",
     "text": [
      "epoch 59\n",
      "froze BatchNorm1d(256, eps=1e-05, momentum=0.1, affine=True, track_running_stats=True)\n",
      "froze BatchNorm1d(256, eps=1e-05, momentum=0.1, affine=True, track_running_stats=True)\n",
      "froze BatchNorm1d(256, eps=1e-05, momentum=0.1, affine=True, track_running_stats=True)\n",
      "froze BatchNorm1d(256, eps=1e-05, momentum=0.1, affine=True, track_running_stats=True)\n",
      "froze BatchNorm1d(256, eps=1e-05, momentum=0.1, affine=True, track_running_stats=True)\n",
      "froze BatchNorm1d(256, eps=1e-05, momentum=0.1, affine=True, track_running_stats=True)\n",
      "froze BatchNorm1d(256, eps=1e-05, momentum=0.1, affine=True, track_running_stats=True)\n",
      "froze BatchNorm1d(256, eps=1e-05, momentum=0.1, affine=True, track_running_stats=True)\n"
     ]
    },
    {
     "name": "stderr",
     "output_type": "stream",
     "text": [
      "loss: 0.0710: 100%|██████████| 977/977 [00:11<00:00, 86.36it/s] \n"
     ]
    },
    {
     "name": "stdout",
     "output_type": "stream",
     "text": [
      "\n",
      "plotting rocsstep 100\n",
      "plotting raw (1000000, 1) torch.Size([1000000, 1])\n",
      "plotting raw gen\n",
      "saved images at ./data/diffusion_jets15/\n",
      "saved model at ./data/diffusion_jets15/model_59.pth\n"
     ]
    }
   ],
   "source": [
    "train_mnist()"
   ]
  },
  {
   "cell_type": "code",
   "execution_count": 4,
   "id": "c78318e3-0e14-4e47-bdc2-477273759aba",
   "metadata": {},
   "outputs": [
    {
     "name": "stdout",
     "output_type": "stream",
     "text": [
      "(4000000, 16)\n",
      "predicting\n",
      "\n",
      "saving.... can take a moment\n",
      "done\n"
     ]
    }
   ],
   "source": [
    "inject_output()"
   ]
  },
  {
   "cell_type": "code",
   "execution_count": null,
   "id": "6edb15a5-8519-4606-b19b-e6041cb4f5e1",
   "metadata": {},
   "outputs": [],
   "source": []
  }
 ],
 "metadata": {
  "kernelspec": {
   "display_name": "bayesconda",
   "language": "python",
   "name": "python3"
  },
  "language_info": {
   "codemirror_mode": {
    "name": "ipython",
    "version": 3
   },
   "file_extension": ".py",
   "mimetype": "text/x-python",
   "name": "python",
   "nbconvert_exporter": "python",
   "pygments_lexer": "ipython3",
   "version": "3.7.12"
  }
 },
 "nbformat": 4,
 "nbformat_minor": 5
}
