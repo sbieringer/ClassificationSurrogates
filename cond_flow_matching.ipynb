{
 "cells": [
  {
   "cell_type": "markdown",
   "metadata": {},
   "source": [
    "# Testing the 'Flow Matching in 100 LOC'-code and augmenting it with Bayesian Methods"
   ]
  },
  {
   "cell_type": "code",
   "execution_count": 2,
   "metadata": {},
   "outputs": [],
   "source": [
    "import torch\n",
    "import torch.nn as nn\n",
    "from torch import Tensor\n",
    "from torch.distributions import Normal\n",
    "\n",
    "import numpy as np\n",
    "import normflows as nf\n",
    "import os\n",
    "from tqdm import tqdm\n",
    "from typing import *\n",
    "from zuko.utils import odeint\n",
    "\n",
    "from matplotlib import pyplot as plt\n",
    "\n",
    "from jet_dataset import JetDataset\n",
    "\n",
    "from typing import *\n",
    "from zuko.utils import odeint"
   ]
  },
  {
   "cell_type": "code",
   "execution_count": 2,
   "metadata": {},
   "outputs": [],
   "source": [
    "def smooth(x, kernel_size=5):\n",
    "    if kernel_size == 1:\n",
    "        return x\n",
    "    else:\n",
    "        assert kernel_size % 2 != 0\n",
    "        x_shape = x.shape\n",
    "        x_tmp = np.array([x[i:x_shape[0]-kernel_size+i+1] for i in range(kernel_size)])\n",
    "        edge1 = x[:int((kernel_size-1)/2)]\n",
    "        edge2 = x[-int((kernel_size-1)/2):]\n",
    "        x_out = np.concatenate((edge1, np.mean(x_tmp, 0),edge2),0)\n",
    "        assert x_shape == x_out.shape\n",
    "        return x_out #np.mean(np.array(x).reshape(-1, kernel_size),1)"
   ]
  },
  {
   "cell_type": "code",
   "execution_count": null,
   "metadata": {},
   "outputs": [],
   "source": [
    "### code from https://gist.github.com/francois-rozet/fd6a820e052157f8ac6e2aa39e16c1aa ###\n",
    "\n",
    "class MLP(nn.Sequential):\n",
    "    def __init__(\n",
    "        self,\n",
    "        in_features: int,\n",
    "        out_features: int,\n",
    "        hidden_features: List[int] = [64, 64],\n",
    "    ):\n",
    "        layers = []\n",
    "\n",
    "        for a, b in zip(\n",
    "            (in_features, *hidden_features),\n",
    "            (*hidden_features, out_features),\n",
    "        ):\n",
    "            layers.extend([nn.Linear(a, b), nn.ELU()])\n",
    "\n",
    "        super().__init__(*layers[:-1])\n",
    "\n",
    "\n",
    "class CNF(nn.Module):\n",
    "    def __init__(\n",
    "        self,\n",
    "        features: int,\n",
    "        freqs: int = 3,\n",
    "        **kwargs,\n",
    "    ):\n",
    "        super().__init__()\n",
    "\n",
    "        self.net = MLP(2 * freqs + features, features, **kwargs)\n",
    "\n",
    "        self.register_buffer('freqs', torch.arange(1, freqs + 1) * torch.pi)\n",
    "\n",
    "    def forward(self, t: Tensor, x: Tensor) -> Tensor:\n",
    "        t = self.freqs * t[..., None]\n",
    "        t = torch.cat((t.cos(), t.sin()), dim=-1)\n",
    "        t = t.expand(*x.shape[:-1], -1)\n",
    "\n",
    "        return self.net(torch.cat((t, x), dim=-1))\n",
    "\n",
    "    def encode(self, x: Tensor) -> Tensor:\n",
    "        return odeint(self, x, 0.0, 1.0, phi=self.parameters())\n",
    "\n",
    "    def decode(self, z: Tensor) -> Tensor:\n",
    "        return odeint(self, z, 1.0, 0.0, phi=self.parameters())\n",
    "\n",
    "    def log_prob(self, x: Tensor) -> Tensor:\n",
    "        I = torch.eye(x.shape[-1]).to(x)\n",
    "        I = I.expand(x.shape + x.shape[-1:]).movedim(-1, 0)\n",
    "\n",
    "        def augmented(t: Tensor, x: Tensor, ladj: Tensor) -> Tensor:\n",
    "            with torch.enable_grad():\n",
    "                x = x.requires_grad_()\n",
    "                dx = self(t, x)\n",
    "\n",
    "            jacobian = torch.autograd.grad(dx, x, I, is_grads_batched=True, create_graph=True)[0]\n",
    "            trace = torch.einsum('i...i', jacobian)\n",
    "\n",
    "            return dx, trace * 1e-2\n",
    "\n",
    "        ladj = torch.zeros_like(x[..., 0])\n",
    "        z, ladj = odeint(augmented, (x, ladj), 0.0, 1.0, phi=self.parameters())\n",
    "\n",
    "        return Normal(0.0, z.new_tensor(1.0)).log_prob(z).sum(dim=-1) + ladj * 1e2\n",
    "\n",
    "\n",
    "class FlowMatchingLoss(nn.Module):\n",
    "    def __init__(self, v: nn.Module):\n",
    "        super().__init__()\n",
    "\n",
    "        self.v = v\n",
    "\n",
    "    def forward(self, x: Tensor) -> Tensor:\n",
    "        t = torch.rand_like(x[..., 0]).unsqueeze(-1)\n",
    "        z = torch.randn_like(x)\n",
    "        y = (1 - t) * x + (1e-4 + (1 - 1e-4) * t) * z\n",
    "        u = (1 - 1e-4) * z - x\n",
    "\n",
    "        return (self.v(t.squeeze(-1), y) - u).square().mean()\n",
    "\n",
    "\n",
    "if __name__ == '__main__':\n",
    "    flow = CNF(2, hidden_features=[256] * 3)\n",
    "\n",
    "    # Training\n",
    "    loss = FlowMatchingLoss(flow)\n",
    "    optimizer = torch.optim.AdamW(flow.parameters(), lr=1e-3)\n",
    "\n",
    "    data, _ = make_moons(4096, noise=0.05)\n",
    "    data = torch.from_numpy(data).float()\n",
    "\n",
    "    for epoch in tqdm(range(4096), ncols=88):\n",
    "        subset = torch.randint(0, len(data), (256,))\n",
    "        x = data[subset]\n",
    "\n",
    "        optimizer.zero_grad()\n",
    "        loss(x).backward()\n",
    "        optimizer.step()\n",
    "\n",
    "    # Sampling\n",
    "    with torch.no_grad():\n",
    "        z = torch.randn(4096, 2)\n",
    "        x = flow.decode(z).numpy()\n",
    "\n",
    "\n",
    "    # Log-likelihood\n",
    "    with torch.no_grad():\n",
    "        log_p = flow.log_prob(data[:4])\n",
    "\n",
    "    print(log_p)"
   ]
  },
  {
   "cell_type": "code",
   "execution_count": 3,
   "metadata": {},
   "outputs": [
    {
     "name": "stdout",
     "output_type": "stream",
     "text": [
      "cuda\n"
     ]
    }
   ],
   "source": [
    "device = torch.device('cuda' if torch.cuda.is_available() else 'cpu')\n",
    "print(device)"
   ]
  },
  {
   "cell_type": "code",
   "execution_count": 4,
   "metadata": {},
   "outputs": [],
   "source": [
    "save_dir = './data/NF_2_jets15/'\n",
    "if not os.path.exists(save_dir):\n",
    "    os.mkdir(save_dir)"
   ]
  },
  {
   "cell_type": "code",
   "execution_count": 5,
   "metadata": {},
   "outputs": [],
   "source": [
    "###################################\n",
    "### Define the Normalizing Flow ###\n",
    "###################################\n",
    "\n",
    "# Define flows\n",
    "K = 10\n",
    "\n",
    "latent_size = 1\n",
    "hidden_units = 64\n",
    "hidden_layers = 2\n",
    "context_size = 16\n",
    "\n",
    "flows = []\n",
    "for i in range(K):\n",
    "    flows += [nf.flows.AutoregressiveRationalQuadraticSpline(latent_size, hidden_layers, hidden_units, \n",
    "                                                             num_context_channels=context_size)]\n",
    "    flows += [nf.flows.LULinearPermute(latent_size)]\n",
    "\n",
    "# Set base distribution\n",
    "q0 = nf.distributions.DiagGaussian(1, trainable=False)\n",
    "    \n",
    "# Construct flow model\n",
    "model = nf.ConditionalNormalizingFlow(q0, flows)\n",
    "\n",
    "# Move model on GPU if available\n",
    "model = model.to(device)"
   ]
  },
  {
   "cell_type": "code",
   "execution_count": 6,
   "metadata": {},
   "outputs": [],
   "source": [
    "#######################\n",
    "### Define the data ###\n",
    "#######################\n",
    "\n",
    "batch_size = 131072\n",
    "\n",
    "dataset = JetDataset(\"./jet_data\",'train')\n",
    "dataset_val = JetDataset(\"./jet_data\",'val')\n",
    "dataloader = torch.utils.data.DataLoader(dataset, batch_size=batch_size, shuffle=True, num_workers=10)"
   ]
  },
  {
   "cell_type": "code",
   "execution_count": 7,
   "metadata": {},
   "outputs": [
    {
     "name": "stdout",
     "output_type": "stream",
     "text": [
      "loaded model from ./data/NF_2_jets15/model_5499.pth\n"
     ]
    },
    {
     "data": {
      "image/png": "[encoded data removed]",
      "text/plain": [
       "<Figure size 720x720 with 1 Axes>"
      ]
     },
     "metadata": {
      "needs_background": "light"
     },
     "output_type": "display_data"
    }
   ],
   "source": [
    "#####################\n",
    "### Training Loop ###\n",
    "#####################\n",
    "\n",
    "train = False\n",
    "lr = 1e-3\n",
    "weight_decay = 0 \n",
    "lr_decay = 1 #0.999\n",
    "\n",
    "epochs = 5500\n",
    "\n",
    "if train:\n",
    "    optim = torch.optim.Adam(model.parameters(), lr=lr, weight_decay=weight_decay)\n",
    "    scheduler = torch.optim.lr_scheduler.ExponentialLR(optim, lr_decay)\n",
    "    model.train()\n",
    "\n",
    "    loss_hist = np.array([])\n",
    "\n",
    "    for ep in tqdm(range(epochs)):\n",
    "        optim.zero_grad()\n",
    "        \n",
    "        for x, c in dataloader:\n",
    "            optim.zero_grad()\n",
    "            x = x.to(device)\n",
    "            c = c.to(device)\n",
    "            \n",
    "            # Compute loss\n",
    "            loss = model.forward_kld(x, c)\n",
    "            \n",
    "            # Do backprop and optimizer step\n",
    "            if ~(torch.isnan(loss) | torch.isinf(loss)):\n",
    "                loss.backward()\n",
    "                optim.step()\n",
    "                scheduler.step()\n",
    "            \n",
    "        # Log loss\n",
    "        loss_hist = np.append(loss_hist, loss.to('cpu').data.numpy())\n",
    "\n",
    "        if ep%50 == 0:\n",
    "            torch.save(model.state_dict(), save_dir + f\"model_{ep}.pth\")\n",
    "\n",
    "    model.eval()\n",
    "\n",
    "    torch.save(model.state_dict(), save_dir + f\"model_{ep}.pth\")\n",
    "    print('saved model at ' + save_dir + f\"model_{ep}.pth\")\n",
    "\n",
    "else:\n",
    "    ep = epochs-1\n",
    "\n",
    "    with open(save_dir + f'losses_{ep}.npy', 'rb') as f:\n",
    "        loss_hist = np.load(f)\n",
    "\n",
    "    model.load_state_dict(torch.load(save_dir + f\"model_{ep}.pth\"))\n",
    "    print('loaded model from ' + save_dir + f\"model_{ep}.pth\")\n",
    "\n",
    "\n",
    "# Plot loss\n",
    "plt.figure(figsize=(10, 10))\n",
    "plt.plot(smooth(loss_hist,1), color = 'C1', alpha = 0.3)\n",
    "plt.plot(smooth(loss_hist,11), label='loss', color = 'C1')\n",
    "plt.grid()\n",
    "plt.legend()\n",
    "img_outfile = save_dir + f\"image_ep{ep}_loss.png\"\n",
    "plt.savefig(img_outfile)\n",
    "plt.show()"
   ]
  },
  {
   "cell_type": "code",
   "execution_count": 8,
   "metadata": {},
   "outputs": [
    {
     "name": "stdout",
     "output_type": "stream",
     "text": [
      "plotting rocs\n"
     ]
    },
    {
     "data": {
      "image/png": "[encoded data removed]",
      "text/plain": [
       "<Figure size 432x288 with 1 Axes>"
      ]
     },
     "metadata": {
      "needs_background": "light"
     },
     "output_type": "display_data"
    },
    {
     "name": "stdout",
     "output_type": "stream",
     "text": [
      "plotting raw (1000000, 1) torch.Size([1000000, 1])\n",
      "plotting raw gen\n"
     ]
    },
    {
     "data": {
      "image/png": "[encoded data removed]",
      "text/plain": [
       "<Figure size 432x288 with 1 Axes>"
      ]
     },
     "metadata": {
      "needs_background": "light"
     },
     "output_type": "display_data"
    },
    {
     "name": "stdout",
     "output_type": "stream",
     "text": [
      "saved images at ./data/NF_2_jets15/\n"
     ]
    }
   ],
   "source": [
    "################\n",
    "### Plotting ###\n",
    "################\n",
    "\n",
    "from sklearn.metrics import roc_curve\n",
    "\n",
    "with torch.no_grad():\n",
    "    # get a batch to compare\n",
    "    conditions = torch.Tensor(dataset_val.features).to(device)\n",
    "    \n",
    "    bs = 1000 \n",
    "    n_bs = len(conditions)//bs+1\n",
    "\n",
    "    c_new = conditions[:bs]\n",
    "    x_gen, _ = model.sample(bs, context=conditions[:bs])\n",
    "    for i in range(n_bs-1):\n",
    "        c_data = conditions[(i+1)*bs:(i+2)*bs]\n",
    "        c_new = torch.concat((c_new, c_data), 0)\n",
    "        x_gen_tmp, _ = model.sample(len(c_data), context=c_data)\n",
    "        x_gen = torch.concat((x_gen, x_gen_tmp), 0)\n",
    "\n",
    "    conditions = c_new\n",
    "    x_gen = x_gen*20. #back to full scale\n",
    "    x_gen_raw = x_gen #HIER SOLLTE NOCH GEMITTELT WERDEN ÜBER OUTPUTS ZUR SELBEN CONDITION\n",
    "    x_gen = torch.sigmoid(x_gen)\n",
    "    print(\"plotting rocs\")\n",
    "    fpr,tpr,_ = roc_curve(dataset_val.truth, dataset_val.raw_target)\n",
    "    gfpr,gtpr,_ = roc_curve(dataset_val.truth, x_gen.cpu())\n",
    "    plt.plot(tpr, fpr, label='\"true\" tagger')\n",
    "    plt.plot(gtpr, gfpr, label='surrogate')\n",
    "    plt.xlabel(\"Efficiency\")\n",
    "    plt.ylabel(\"Fake rate\")\n",
    "    plt.legend()\n",
    "    img_outfile = save_dir + f\"image_ep{ep}.png\"\n",
    "    plt.savefig(img_outfile)\n",
    "\n",
    "    plt.yscale('log')\n",
    "    img_outfile = save_dir + f\"image_ep{ep}_log.png\"\n",
    "    plt.savefig(img_outfile)\n",
    "    plt.show()\n",
    "\n",
    "    print(\"plotting raw\", dataset_val.target.shape, x_gen_raw.shape)\n",
    "    _,b,_ = plt.hist(dataset_val.target[:,0]*20.,bins=100, label='\"true\" tagger',histtype='step')\n",
    "    print(\"plotting raw gen\")\n",
    "    plt.hist(x_gen_raw.cpu().numpy()[:,0],bins=b, label='surrogate',histtype='step')\n",
    "    plt.legend()\n",
    "    img_outfile = save_dir + f\"image_ep{ep}_raw.png\"\n",
    "    plt.savefig(img_outfile)\n",
    "    plt.show()\n",
    "    print('saved images at ' + save_dir)"
   ]
  },
  {
   "cell_type": "code",
   "execution_count": null,
   "metadata": {},
   "outputs": [],
   "source": []
  }
 ],
 "metadata": {
  "kernelspec": {
   "display_name": "bayesconda",
   "language": "python",
   "name": "python3"
  },
  "language_info": {
   "codemirror_mode": {
    "name": "ipython",
    "version": 3
   },
   "file_extension": ".py",
   "mimetype": "text/x-python",
   "name": "python",
   "nbconvert_exporter": "python",
   "pygments_lexer": "ipython3",
   "version": "3.10.6"
  },
  "orig_nbformat": 4
 },
 "nbformat": 4,
 "nbformat_minor": 2
}
