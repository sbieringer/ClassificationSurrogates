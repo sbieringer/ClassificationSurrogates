{
 "cells": [
  {
   "cell_type": "markdown",
   "metadata": {},
   "source": [
    "# Testing the 'Flow Matching in 100 LOC'-code and augmenting it with Bayesian Methods"
   ]
  },
  {
   "cell_type": "code",
   "execution_count": 1,
   "metadata": {},
   "outputs": [],
   "source": [
    "import torch\n",
    "import torch.nn as nn\n",
    "from torch import Tensor\n",
    "from torch.distributions import Normal\n",
    "\n",
    "import sys\n",
    "sys.path.append('./models/') \n",
    "\n",
    "from cond_CFM import CNF, FlowMatchingLoss\n",
    "\n",
    "import numpy as np\n",
    "import normflows as nf\n",
    "import os\n",
    "from tqdm import tqdm\n",
    "from typing import *\n",
    "from zuko.utils import odeint\n",
    "\n",
    "from matplotlib import pyplot as plt\n",
    "\n",
    "from jet_dataset import JetDataset\n",
    "\n",
    "from typing import *\n",
    "from zuko.utils import odeint"
   ]
  },
  {
   "cell_type": "code",
   "execution_count": 2,
   "metadata": {},
   "outputs": [],
   "source": [
    "def smooth(x, kernel_size=5):\n",
    "    if kernel_size == 1:\n",
    "        return x\n",
    "    else:\n",
    "        assert kernel_size % 2 != 0\n",
    "        x_shape = x.shape\n",
    "        x_tmp = np.array([x[i:x_shape[0]-kernel_size+i+1] for i in range(kernel_size)])\n",
    "        edge1 = x[:int((kernel_size-1)/2)]\n",
    "        edge2 = x[-int((kernel_size-1)/2):]\n",
    "        x_out = np.concatenate((edge1, np.mean(x_tmp, 0),edge2),0)\n",
    "        assert x_shape == x_out.shape\n",
    "        return x_out #np.mean(np.array(x).reshape(-1, kernel_size),1)"
   ]
  },
  {
   "cell_type": "code",
   "execution_count": 3,
   "metadata": {},
   "outputs": [
    {
     "name": "stdout",
     "output_type": "stream",
     "text": [
      "cuda\n"
     ]
    }
   ],
   "source": [
    "device = torch.device('cuda' if torch.cuda.is_available() else 'cpu')\n",
    "print(device)"
   ]
  },
  {
   "cell_type": "code",
   "execution_count": 4,
   "metadata": {},
   "outputs": [],
   "source": [
    "save_dir = './data/CFM_jets15/'\n",
    "if not os.path.exists(save_dir):\n",
    "    os.mkdir(save_dir)"
   ]
  },
  {
   "cell_type": "code",
   "execution_count": 5,
   "metadata": {},
   "outputs": [],
   "source": [
    "#######################\n",
    "### Define the data ###\n",
    "#######################\n",
    "\n",
    "batch_size = 131072\n",
    "\n",
    "dont_use = 'jet_nparticles', 'jet_sdmass\tjet_tau1\tjet_tau2\tjet_tau3\tjet_tau4\taux_genpart_eta\taux_genpart_phi\taux_genpart_pid\taux_genpart_pt\taux_truth_match')\n",
    "\n",
    "dataset = JetDataset(\"./jet_data\",'train', del_context=dont_use)\n",
    "dataset_val = JetDataset(\"./jet_data\",'val, del_context=dont_use)')\n",
    "dataloader = torch.utils.data.DataLoader(dataset, batch_size=batch_size, shuffle=True, num_workers=10)"
   ]
  },
  {
   "cell_type": "code",
   "execution_count": 6,
   "metadata": {},
   "outputs": [],
   "source": [
    "###################################\n",
    "### Define the Normalizing Flow ###\n",
    "###################################\n",
    "\n",
    "# Construct flow model\n",
    "model = CNF(1, conds = dataset.features.shape[1])#, n_nodes=[256] * 3)\n",
    "\n",
    "# Move model on GPU if available\n",
    "model = model.to(device)\n"
   ]
  },
  {
   "cell_type": "code",
   "execution_count": 9,
   "metadata": {},
   "outputs": [
    {
     "name": "stderr",
     "output_type": "stream",
     "text": [
      "  4%|▎         | 7/200 [00:57<26:37,  8.28s/it]\n"
     ]
    },
    {
     "ename": "KeyboardInterrupt",
     "evalue": "",
     "output_type": "error",
     "traceback": [
      "\u001b[0;31m---------------------------------------------------------------------------\u001b[0m",
      "\u001b[0;31mKeyboardInterrupt\u001b[0m                         Traceback (most recent call last)",
      "\u001b[1;32m/home/bierings/JetSurrogate/cond_flow_matching.ipynb Cell 8\u001b[0m line \u001b[0;36m<cell line: 12>\u001b[0;34m()\u001b[0m\n\u001b[1;32m     <a href='vscode-notebook-cell://ssh-remote%2Ballocgpu/home/bierings/JetSurrogate/cond_flow_matching.ipynb#X10sdnNjb2RlLXJlbW90ZQ%3D%3D?line=19'>20</a>\u001b[0m \u001b[39mfor\u001b[39;00m ep \u001b[39min\u001b[39;00m tqdm(\u001b[39mrange\u001b[39m(epochs)):\n\u001b[1;32m     <a href='vscode-notebook-cell://ssh-remote%2Ballocgpu/home/bierings/JetSurrogate/cond_flow_matching.ipynb#X10sdnNjb2RlLXJlbW90ZQ%3D%3D?line=20'>21</a>\u001b[0m     optim\u001b[39m.\u001b[39mzero_grad()\n\u001b[0;32m---> <a href='vscode-notebook-cell://ssh-remote%2Ballocgpu/home/bierings/JetSurrogate/cond_flow_matching.ipynb#X10sdnNjb2RlLXJlbW90ZQ%3D%3D?line=22'>23</a>\u001b[0m     \u001b[39mfor\u001b[39;00m x, c \u001b[39min\u001b[39;00m dataloader:\n\u001b[1;32m     <a href='vscode-notebook-cell://ssh-remote%2Ballocgpu/home/bierings/JetSurrogate/cond_flow_matching.ipynb#X10sdnNjb2RlLXJlbW90ZQ%3D%3D?line=23'>24</a>\u001b[0m         optim\u001b[39m.\u001b[39mzero_grad()\n\u001b[1;32m     <a href='vscode-notebook-cell://ssh-remote%2Ballocgpu/home/bierings/JetSurrogate/cond_flow_matching.ipynb#X10sdnNjb2RlLXJlbW90ZQ%3D%3D?line=24'>25</a>\u001b[0m         x \u001b[39m=\u001b[39m x\u001b[39m.\u001b[39mto(device)\n",
      "File \u001b[0;32m/beegfs/desy/user/bierings/conda/envs/new_bayesconda/lib/python3.10/site-packages/torch/utils/data/dataloader.py:633\u001b[0m, in \u001b[0;36m_BaseDataLoaderIter.__next__\u001b[0;34m(self)\u001b[0m\n\u001b[1;32m    630\u001b[0m \u001b[39mif\u001b[39;00m \u001b[39mself\u001b[39m\u001b[39m.\u001b[39m_sampler_iter \u001b[39mis\u001b[39;00m \u001b[39mNone\u001b[39;00m:\n\u001b[1;32m    631\u001b[0m     \u001b[39m# TODO(https://github.com/pytorch/pytorch/issues/76750)\u001b[39;00m\n\u001b[1;32m    632\u001b[0m     \u001b[39mself\u001b[39m\u001b[39m.\u001b[39m_reset()  \u001b[39m# type: ignore[call-arg]\u001b[39;00m\n\u001b[0;32m--> 633\u001b[0m data \u001b[39m=\u001b[39m \u001b[39mself\u001b[39;49m\u001b[39m.\u001b[39;49m_next_data()\n\u001b[1;32m    634\u001b[0m \u001b[39mself\u001b[39m\u001b[39m.\u001b[39m_num_yielded \u001b[39m+\u001b[39m\u001b[39m=\u001b[39m \u001b[39m1\u001b[39m\n\u001b[1;32m    635\u001b[0m \u001b[39mif\u001b[39;00m \u001b[39mself\u001b[39m\u001b[39m.\u001b[39m_dataset_kind \u001b[39m==\u001b[39m _DatasetKind\u001b[39m.\u001b[39mIterable \u001b[39mand\u001b[39;00m \\\n\u001b[1;32m    636\u001b[0m         \u001b[39mself\u001b[39m\u001b[39m.\u001b[39m_IterableDataset_len_called \u001b[39mis\u001b[39;00m \u001b[39mnot\u001b[39;00m \u001b[39mNone\u001b[39;00m \u001b[39mand\u001b[39;00m \\\n\u001b[1;32m    637\u001b[0m         \u001b[39mself\u001b[39m\u001b[39m.\u001b[39m_num_yielded \u001b[39m>\u001b[39m \u001b[39mself\u001b[39m\u001b[39m.\u001b[39m_IterableDataset_len_called:\n",
      "File \u001b[0;32m/beegfs/desy/user/bierings/conda/envs/new_bayesconda/lib/python3.10/site-packages/torch/utils/data/dataloader.py:1328\u001b[0m, in \u001b[0;36m_MultiProcessingDataLoaderIter._next_data\u001b[0;34m(self)\u001b[0m\n\u001b[1;32m   1325\u001b[0m     \u001b[39mreturn\u001b[39;00m \u001b[39mself\u001b[39m\u001b[39m.\u001b[39m_process_data(data)\n\u001b[1;32m   1327\u001b[0m \u001b[39massert\u001b[39;00m \u001b[39mnot\u001b[39;00m \u001b[39mself\u001b[39m\u001b[39m.\u001b[39m_shutdown \u001b[39mand\u001b[39;00m \u001b[39mself\u001b[39m\u001b[39m.\u001b[39m_tasks_outstanding \u001b[39m>\u001b[39m \u001b[39m0\u001b[39m\n\u001b[0;32m-> 1328\u001b[0m idx, data \u001b[39m=\u001b[39m \u001b[39mself\u001b[39;49m\u001b[39m.\u001b[39;49m_get_data()\n\u001b[1;32m   1329\u001b[0m \u001b[39mself\u001b[39m\u001b[39m.\u001b[39m_tasks_outstanding \u001b[39m-\u001b[39m\u001b[39m=\u001b[39m \u001b[39m1\u001b[39m\n\u001b[1;32m   1330\u001b[0m \u001b[39mif\u001b[39;00m \u001b[39mself\u001b[39m\u001b[39m.\u001b[39m_dataset_kind \u001b[39m==\u001b[39m _DatasetKind\u001b[39m.\u001b[39mIterable:\n\u001b[1;32m   1331\u001b[0m     \u001b[39m# Check for _IterableDatasetStopIteration\u001b[39;00m\n",
      "File \u001b[0;32m/beegfs/desy/user/bierings/conda/envs/new_bayesconda/lib/python3.10/site-packages/torch/utils/data/dataloader.py:1294\u001b[0m, in \u001b[0;36m_MultiProcessingDataLoaderIter._get_data\u001b[0;34m(self)\u001b[0m\n\u001b[1;32m   1290\u001b[0m     \u001b[39m# In this case, `self._data_queue` is a `queue.Queue`,. But we don't\u001b[39;00m\n\u001b[1;32m   1291\u001b[0m     \u001b[39m# need to call `.task_done()` because we don't use `.join()`.\u001b[39;00m\n\u001b[1;32m   1292\u001b[0m \u001b[39melse\u001b[39;00m:\n\u001b[1;32m   1293\u001b[0m     \u001b[39mwhile\u001b[39;00m \u001b[39mTrue\u001b[39;00m:\n\u001b[0;32m-> 1294\u001b[0m         success, data \u001b[39m=\u001b[39m \u001b[39mself\u001b[39;49m\u001b[39m.\u001b[39;49m_try_get_data()\n\u001b[1;32m   1295\u001b[0m         \u001b[39mif\u001b[39;00m success:\n\u001b[1;32m   1296\u001b[0m             \u001b[39mreturn\u001b[39;00m data\n",
      "File \u001b[0;32m/beegfs/desy/user/bierings/conda/envs/new_bayesconda/lib/python3.10/site-packages/torch/utils/data/dataloader.py:1132\u001b[0m, in \u001b[0;36m_MultiProcessingDataLoaderIter._try_get_data\u001b[0;34m(self, timeout)\u001b[0m\n\u001b[1;32m   1119\u001b[0m \u001b[39mdef\u001b[39;00m \u001b[39m_try_get_data\u001b[39m(\u001b[39mself\u001b[39m, timeout\u001b[39m=\u001b[39m_utils\u001b[39m.\u001b[39mMP_STATUS_CHECK_INTERVAL):\n\u001b[1;32m   1120\u001b[0m     \u001b[39m# Tries to fetch data from `self._data_queue` once for a given timeout.\u001b[39;00m\n\u001b[1;32m   1121\u001b[0m     \u001b[39m# This can also be used as inner loop of fetching without timeout, with\u001b[39;00m\n\u001b[0;32m   (...)\u001b[0m\n\u001b[1;32m   1129\u001b[0m     \u001b[39m# Returns a 2-tuple:\u001b[39;00m\n\u001b[1;32m   1130\u001b[0m     \u001b[39m#   (bool: whether successfully get data, any: data if successful else None)\u001b[39;00m\n\u001b[1;32m   1131\u001b[0m     \u001b[39mtry\u001b[39;00m:\n\u001b[0;32m-> 1132\u001b[0m         data \u001b[39m=\u001b[39m \u001b[39mself\u001b[39;49m\u001b[39m.\u001b[39;49m_data_queue\u001b[39m.\u001b[39;49mget(timeout\u001b[39m=\u001b[39;49mtimeout)\n\u001b[1;32m   1133\u001b[0m         \u001b[39mreturn\u001b[39;00m (\u001b[39mTrue\u001b[39;00m, data)\n\u001b[1;32m   1134\u001b[0m     \u001b[39mexcept\u001b[39;00m \u001b[39mException\u001b[39;00m \u001b[39mas\u001b[39;00m e:\n\u001b[1;32m   1135\u001b[0m         \u001b[39m# At timeout and error, we manually check whether any worker has\u001b[39;00m\n\u001b[1;32m   1136\u001b[0m         \u001b[39m# failed. Note that this is the only mechanism for Windows to detect\u001b[39;00m\n\u001b[1;32m   1137\u001b[0m         \u001b[39m# worker failures.\u001b[39;00m\n",
      "File \u001b[0;32m/beegfs/desy/user/bierings/conda/envs/new_bayesconda/lib/python3.10/multiprocessing/queues.py:113\u001b[0m, in \u001b[0;36mQueue.get\u001b[0;34m(self, block, timeout)\u001b[0m\n\u001b[1;32m    111\u001b[0m \u001b[39mif\u001b[39;00m block:\n\u001b[1;32m    112\u001b[0m     timeout \u001b[39m=\u001b[39m deadline \u001b[39m-\u001b[39m time\u001b[39m.\u001b[39mmonotonic()\n\u001b[0;32m--> 113\u001b[0m     \u001b[39mif\u001b[39;00m \u001b[39mnot\u001b[39;00m \u001b[39mself\u001b[39;49m\u001b[39m.\u001b[39;49m_poll(timeout):\n\u001b[1;32m    114\u001b[0m         \u001b[39mraise\u001b[39;00m Empty\n\u001b[1;32m    115\u001b[0m \u001b[39melif\u001b[39;00m \u001b[39mnot\u001b[39;00m \u001b[39mself\u001b[39m\u001b[39m.\u001b[39m_poll():\n",
      "File \u001b[0;32m/beegfs/desy/user/bierings/conda/envs/new_bayesconda/lib/python3.10/multiprocessing/connection.py:262\u001b[0m, in \u001b[0;36m_ConnectionBase.poll\u001b[0;34m(self, timeout)\u001b[0m\n\u001b[1;32m    260\u001b[0m \u001b[39mself\u001b[39m\u001b[39m.\u001b[39m_check_closed()\n\u001b[1;32m    261\u001b[0m \u001b[39mself\u001b[39m\u001b[39m.\u001b[39m_check_readable()\n\u001b[0;32m--> 262\u001b[0m \u001b[39mreturn\u001b[39;00m \u001b[39mself\u001b[39;49m\u001b[39m.\u001b[39;49m_poll(timeout)\n",
      "File \u001b[0;32m/beegfs/desy/user/bierings/conda/envs/new_bayesconda/lib/python3.10/multiprocessing/connection.py:429\u001b[0m, in \u001b[0;36mConnection._poll\u001b[0;34m(self, timeout)\u001b[0m\n\u001b[1;32m    428\u001b[0m \u001b[39mdef\u001b[39;00m \u001b[39m_poll\u001b[39m(\u001b[39mself\u001b[39m, timeout):\n\u001b[0;32m--> 429\u001b[0m     r \u001b[39m=\u001b[39m wait([\u001b[39mself\u001b[39;49m], timeout)\n\u001b[1;32m    430\u001b[0m     \u001b[39mreturn\u001b[39;00m \u001b[39mbool\u001b[39m(r)\n",
      "File \u001b[0;32m/beegfs/desy/user/bierings/conda/envs/new_bayesconda/lib/python3.10/multiprocessing/connection.py:936\u001b[0m, in \u001b[0;36mwait\u001b[0;34m(object_list, timeout)\u001b[0m\n\u001b[1;32m    933\u001b[0m     deadline \u001b[39m=\u001b[39m time\u001b[39m.\u001b[39mmonotonic() \u001b[39m+\u001b[39m timeout\n\u001b[1;32m    935\u001b[0m \u001b[39mwhile\u001b[39;00m \u001b[39mTrue\u001b[39;00m:\n\u001b[0;32m--> 936\u001b[0m     ready \u001b[39m=\u001b[39m selector\u001b[39m.\u001b[39;49mselect(timeout)\n\u001b[1;32m    937\u001b[0m     \u001b[39mif\u001b[39;00m ready:\n\u001b[1;32m    938\u001b[0m         \u001b[39mreturn\u001b[39;00m [key\u001b[39m.\u001b[39mfileobj \u001b[39mfor\u001b[39;00m (key, events) \u001b[39min\u001b[39;00m ready]\n",
      "File \u001b[0;32m/beegfs/desy/user/bierings/conda/envs/new_bayesconda/lib/python3.10/selectors.py:416\u001b[0m, in \u001b[0;36m_PollLikeSelector.select\u001b[0;34m(self, timeout)\u001b[0m\n\u001b[1;32m    414\u001b[0m ready \u001b[39m=\u001b[39m []\n\u001b[1;32m    415\u001b[0m \u001b[39mtry\u001b[39;00m:\n\u001b[0;32m--> 416\u001b[0m     fd_event_list \u001b[39m=\u001b[39m \u001b[39mself\u001b[39;49m\u001b[39m.\u001b[39;49m_selector\u001b[39m.\u001b[39;49mpoll(timeout)\n\u001b[1;32m    417\u001b[0m \u001b[39mexcept\u001b[39;00m \u001b[39mInterruptedError\u001b[39;00m:\n\u001b[1;32m    418\u001b[0m     \u001b[39mreturn\u001b[39;00m ready\n",
      "\u001b[0;31mKeyboardInterrupt\u001b[0m: "
     ]
    }
   ],
   "source": [
    "#####################\n",
    "### Training Loop ###\n",
    "#####################\n",
    "\n",
    "train = True\n",
    "lr = 1e-3\n",
    "weight_decay = 0 \n",
    "lr_decay = 1 #0.999\n",
    "\n",
    "epochs = 200\n",
    "\n",
    "if train:\n",
    "    cfm_loss = FlowMatchingLoss(model)\n",
    "    optim = torch.optim.AdamW(model.parameters(), lr=lr)\n",
    "    scheduler = torch.optim.lr_scheduler.ExponentialLR(optim, lr_decay)\n",
    "    model.train()\n",
    "\n",
    "    loss_hist = np.array([])\n",
    "\n",
    "    for ep in tqdm(range(epochs)):\n",
    "        optim.zero_grad()\n",
    "        \n",
    "        for x, c in dataloader:\n",
    "            optim.zero_grad()\n",
    "            x = x.to(device)\n",
    "            c = c.to(device)\n",
    "            \n",
    "            # Compute loss\n",
    "            loss = cfm_loss(x, c)\n",
    "            \n",
    "            # Do backprop and optimizer step\n",
    "            if ~(torch.isnan(loss) | torch.isinf(loss)):\n",
    "                loss.backward()\n",
    "                optim.step()\n",
    "                scheduler.step()\n",
    "            \n",
    "        # Log loss\n",
    "        loss_hist = np.append(loss_hist, loss.to('cpu').data.numpy())\n",
    "\n",
    "        if ep%50 == 0:\n",
    "            torch.save(model.state_dict(), save_dir + f\"model_{ep}.pth\")\n",
    "\n",
    "\n",
    "# # Sampling\n",
    "# with torch.no_grad():\n",
    "# z = torch.randn(4096, 2)\n",
    "# x = flow.decode(z).numpy()\n",
    "\n",
    "\n",
    "# # Log-likelihood\n",
    "# with torch.no_grad():\n",
    "# log_p = flow.log_prob(data[:4])\n",
    "\n",
    "    model.eval()\n",
    "\n",
    "    torch.save(model.state_dict(), save_dir + f\"model_{ep}.pth\")\n",
    "    print('saved model at ' + save_dir + f\"model_{ep}.pth\")\n",
    "\n",
    "else:\n",
    "    ep = epochs-1\n",
    "\n",
    "    with open(save_dir + f'losses_{ep}.npy', 'rb') as f:\n",
    "        loss_hist = np.load(f)\n",
    "\n",
    "    model.load_state_dict(torch.load(save_dir + f\"model_{ep}.pth\"))\n",
    "    print('loaded model from ' + save_dir + f\"model_{ep}.pth\")\n",
    "\n",
    "\n",
    "# Plot loss\n",
    "plt.figure(figsize=(10, 10))\n",
    "plt.plot(smooth(loss_hist,1), color = 'C1', alpha = 0.3)\n",
    "plt.plot(smooth(loss_hist,11), label='loss', color = 'C1')\n",
    "plt.grid()\n",
    "plt.legend()\n",
    "img_outfile = save_dir + f\"image_ep{ep}_loss.png\"\n",
    "plt.savefig(img_outfile)\n",
    "plt.show()"
   ]
  },
  {
   "cell_type": "code",
   "execution_count": null,
   "metadata": {},
   "outputs": [],
   "source": [
    "with torch.no_grad():\n",
    "    d = torch.Tensor(dataset_val.features[:1000]).to(device)\n",
    "    z = torch.randn(len(d), 1).to(device)\n",
    "    x_gen_raw = model.decode(z, cond=d).detach().cpu().numpy()*20"
   ]
  },
  {
   "cell_type": "code",
   "execution_count": null,
   "metadata": {},
   "outputs": [
    {
     "name": "stdout",
     "output_type": "stream",
     "text": [
      "plotting raw (1000000, 1) (1000000, 1)\n",
      "plotting raw gen\n"
     ]
    },
    {
     "data": {
      "image/png": "[encoded data removed]",
      "text/plain": [
       "<Figure size 640x480 with 1 Axes>"
      ]
     },
     "metadata": {},
     "output_type": "display_data"
    },
    {
     "name": "stdout",
     "output_type": "stream",
     "text": [
      "saved images at ./data/CFM_jets15/\n"
     ]
    }
   ],
   "source": [
    "print(\"plotting raw\", dataset_val.target.shape, x_gen_raw.shape)\n",
    "_,b,_ = plt.hist(dataset_val.target[:,0]*20.,bins=100, label='\"true\" tagger',histtype='step')\n",
    "print(\"plotting raw gen\")\n",
    "plt.hist(x_gen_raw[:,0],bins=b, label='surrogate',histtype='step')\n",
    "plt.legend()\n",
    "img_outfile = save_dir + f\"image_ep{ep}_raw.png\"\n",
    "plt.savefig(img_outfile)\n",
    "plt.show()\n",
    "print('saved images at ' + save_dir)"
   ]
  },
  {
   "cell_type": "code",
   "execution_count": null,
   "metadata": {},
   "outputs": [],
   "source": [
    "################\n",
    "### Plotting ###\n",
    "################\n",
    "\n",
    "from sklearn.metrics import roc_curve\n",
    "\n",
    "with torch.no_grad():\n",
    "    # get a batch to compare\n",
    "    conditions = torch.Tensor(dataset_val.features).to(device)\n",
    "    \n",
    "    bs = 1000 \n",
    "    n_bs = len(conditions)//bs+1\n",
    "\n",
    "    c_new = conditions[:bs]\n",
    "    x_gen, _ = model.sample(bs, context=conditions[:bs])\n",
    "    for i in range(n_bs-1):\n",
    "        c_data = conditions[(i+1)*bs:(i+2)*bs]\n",
    "        c_new = torch.concat((c_new, c_data), 0)\n",
    "        x_gen_tmp, _ = model.sample(len(c_data), context=c_data)\n",
    "        x_gen = torch.concat((x_gen, x_gen_tmp), 0)\n",
    "\n",
    "    conditions = c_new\n",
    "    x_gen = x_gen*20. #back to full scale\n",
    "    x_gen_raw = x_gen #HIER SOLLTE NOCH GEMITTELT WERDEN ÜBER OUTPUTS ZUR SELBEN CONDITION\n",
    "    x_gen = torch.sigmoid(x_gen)\n",
    "    print(\"plotting rocs\")\n",
    "    fpr,tpr,_ = roc_curve(dataset_val.truth, dataset_val.raw_target)\n",
    "    gfpr,gtpr,_ = roc_curve(dataset_val.truth, x_gen.cpu())\n",
    "    plt.plot(tpr, fpr, label='\"true\" tagger')\n",
    "    plt.plot(gtpr, gfpr, label='surrogate')\n",
    "    plt.xlabel(\"Efficiency\")\n",
    "    plt.ylabel(\"Fake rate\")\n",
    "    plt.legend()\n",
    "    img_outfile = save_dir + f\"image_ep{ep}.png\"\n",
    "    plt.savefig(img_outfile)\n",
    "\n",
    "    plt.yscale('log')\n",
    "    img_outfile = save_dir + f\"image_ep{ep}_log.png\"\n",
    "    plt.savefig(img_outfile)\n",
    "    plt.show()\n",
    "\n",
    "    print(\"plotting raw\", dataset_val.target.shape, x_gen_raw.shape)\n",
    "    _,b,_ = plt.hist(dataset_val.target[:,0]*20.,bins=100, label='\"true\" tagger',histtype='step')\n",
    "    print(\"plotting raw gen\")\n",
    "    plt.hist(x_gen_raw.cpu().numpy()[:,0],bins=b, label='surrogate',histtype='step')\n",
    "    plt.legend()\n",
    "    img_outfile = save_dir + f\"image_ep{ep}_raw.png\"\n",
    "    plt.savefig(img_outfile)\n",
    "    plt.show()\n",
    "    print('saved images at ' + save_dir)"
   ]
  },
  {
   "cell_type": "code",
   "execution_count": null,
   "metadata": {},
   "outputs": [],
   "source": []
  }
 ],
 "metadata": {
  "kernelspec": {
   "display_name": "Python 3 (ipykernel)",
   "language": "python",
   "name": "python3"
  },
  "language_info": {
   "codemirror_mode": {
    "name": "ipython",
    "version": 3
   },
   "file_extension": ".py",
   "mimetype": "text/x-python",
   "name": "python",
   "nbconvert_exporter": "python",
   "pygments_lexer": "ipython3",
   "version": "3.10.6"
  }
 },
 "nbformat": 4,
 "nbformat_minor": 4
}
